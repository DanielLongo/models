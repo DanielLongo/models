{
 "cells": [
  {
   "cell_type": "markdown",
   "metadata": {},
   "source": []
  },
  {
   "cell_type": "code",
   "execution_count": null,
   "metadata": {
    "collapsed": true
   },
   "outputs": [],
   "source": [
    "#Image classifer with logistic regression\n",
    "#images shape(width,height,3(rgb))\n",
    "\n",
    "import numpy as np\n",
    "import scipy \n",
    "import os\n",
    "import matplotlib.pyplot as plot\n",
    "import math\n",
    "from scipy import ndimage\n",
    "\n",
    "# TO-DO\n",
    "# fetch a ton more images, of your own choice / category \n",
    "# create a train and a test set <---- write code for this "
   ]
  },
  {
   "cell_type": "code",
   "execution_count": null,
   "metadata": {
    "collapsed": true
   },
   "outputs": [],
   "source": [
    "# Global Constants\n",
    "side_length = 650\n",
    "image_path = \"./untitled folder/\"\n",
    "test_ratio = .2"
   ]
  },
  {
   "cell_type": "code",
   "execution_count": null,
   "metadata": {},
   "outputs": [],
   "source": [
    "#\n",
    "test0 = \"./untitled folder/\" + \"cow0.jpg\" #standardize file extensions\n",
    "test1 = \"./untitled folder/\" + \"notCow0.jpg\" \n",
    "test0Array = scipy.ndimage.imread(test0,flatten=False)\n",
    "test1Array = scipy.ndimage.imread(test1,flatten=False) \n",
    "print(\"Shape of Test Image 0:\", np.shape(test0Array))\n",
    "print(\"Shape of Test Image 1:\", np.shape(test1Array))\n",
    "\n",
    "# Resize input image arrays \n",
    "test0Array_resized = scipy.misc.imresize(test0Array,size=(side_length,side_length,3))\n",
    "test1Array_resized = scipy.misc.imresize(test1Array,size=(side_length,side_length,3))"
   ]
  },
  {
   "cell_type": "code",
   "execution_count": null,
   "metadata": {},
   "outputs": [],
   "source": [
    "# Read in input image files into arrays, validate inputs\n",
    "images = os.listdir(image_path)\n",
    "\n",
    "# First, build dataset for training data\n",
    "examples = []\n",
    "labels = []\n",
    "for image in images:\n",
    "    if image.split(\".\")[-1] != \"DS_Store\":\n",
    "        cur_label = 0\n",
    "        if image[0] == \"c\":\n",
    "            cur_label = 1\n",
    "        labels += [cur_label]\n",
    "        cur_image_path = image_path + image\n",
    "        cur_array = scipy.ndimage.imread(cur_image_path,flatten=False) #reads image as numpy array (lenght,height,3)\n",
    "        cur_array_resized = scipy.misc.imresize(cur_array,size=(side_length,side_length,3)) #resizes images to a uniform shape\n",
    "        examples += [cur_array_resized] \n",
    "# print(labels)\n",
    "\n",
    "print(\"Shape of train_examples:\",np.shape(examples)) #should be (len(images),side_length,side_length,3)\n",
    "\n",
    "# Then, build dataset for train and test data...\n",
    "number_test_examples = int(len(examples)*test_ratio)\n",
    "test_examples = examples[:number_test_examples]\n",
    "train_examples = examples[number_test_examples:]\n",
    "\n",
    "train_examples = np.array(train_examples) #converts the list of examples to an array\n",
    "test_examples = np.array(test_examples) \n",
    "\n",
    "\n",
    "# Next, we flatten our train and test examples\n",
    "# .T => transposes our inputs\n",
    "# (a, b, c, d) ----> (b * c * d, a)\n",
    "\n",
    "flattened_train_examples = train_examples.reshape(train_examples.shape[0], -1).T\n",
    "flattened_test_examples = test_examples.reshape(test_examples.shape[0], -1).T\n",
    "# print(type(train_examples[0]))\n",
    "# flattened_train_examples = train_examples.reshape(train_examples[0],-1).T\n",
    "#fattened_train_examples = train_examples.flatten()\n",
    "print(np.shape(flattened_train_examples))\n",
    "print(np.shape(flattened_test_examples))\n",
    "\n",
    "# print(\"Shape of test0Array_resized:\",np.shape(test0Array_resized))\n",
    "\n",
    "# Standardize color values of the image \n",
    "standardized_train_examples = flattened_train_examples/255 #225 is the maximum rgb value/ This is done to decrease varaince in inputs thus more efficint\n",
    "standardized_test_examples = flattened_test_examples/255\n",
    "print(standardized_train_examples)\n",
    "\n",
    "\n",
    "# Create labels for data\n",
    "# labels = [1,1,1,1,1,1,1,1,1,1,1,1,1,1,1,0,0,0,0,0,0,0,0,0,0,0]\n",
    "labels_train  = np.array(labels[:21])\n",
    "labels_test = np.array(labels[21:])\n",
    "# Randomize and shuffle labels/data"
   ]
  },
  {
   "cell_type": "code",
   "execution_count": null,
   "metadata": {},
   "outputs": [],
   "source": [
    "def sigmoid(x):\n",
    "    output = 1.0/(1.0+np.exp(-x))\n",
    "    return output\n",
    "    \n",
    "sigmoid(10)\n",
    "# write test cases for this function so that it works for np arrays "
   ]
  },
  {
   "cell_type": "code",
   "execution_count": null,
   "metadata": {},
   "outputs": [],
   "source": [
    "def initialize_zeros(dimension): #dimension = number of examples\n",
    "    zeroed_weights = np.zeros((dimension, 1))\n",
    "    zeroed_baisies = 0. #baisies always start at 0 b/c they are developed as the model trains\n",
    "    \n",
    "    # asserts here, use isinstance()\n",
    "    # check shape of zeroed weight\n",
    "    assert(isinstance(zeroed_baisies, float) or isinstance(zeroed_baisies, int))\n",
    "    \n",
    "    return zeroed_weights, zeroed_baisies\n",
    "    \n",
    "initialize_zeros(10)\n",
    "# write test cases for this function <--- use asserts, check that zeored_weights and zeored_baisies are of the right\n",
    "# type. "
   ]
  },
  {
   "cell_type": "code",
   "execution_count": 47,
   "metadata": {
    "collapsed": true
   },
   "outputs": [],
   "source": [
    "def propagate(X,Y,w,b):\n",
    "    # b = scalar\n",
    "    # w = (____, 1)\n",
    "    # X = (____, examples)\n",
    "    # Y = (1, examples)\n",
    "    \n",
    "    w_transposed = w.T\n",
    "    num_of_examples = np.shape(X)[1]\n",
    "#     print(np.shape(X))\n",
    "#     print(np.shape(w_transposed))\n",
    "    # format printing of shapes so that you can see the dot product\n",
    "    dot_product = np.dot(w_transposed,X) #dot product of X and w ORDER MATTERS\n",
    "#     print(np.shape(dot_product))\n",
    "    z = dot_product + b\n",
    "    a = sigmoid(z) #in begining should be 0\n",
    "    loss = (-1/num_of_examples)*np.sum((1-Y)*np.log(1-a) + (Y *np.log(a))) #log likelyhood cost for logistic regression\n",
    "    #\n",
    "    dw = (1/num_of_examples) * np.dot(X,(a-Y).T)\n",
    "    #\n",
    "    db = (1/num_of_examples) * np.sum(a-Y) #np.sum collapes input\n",
    "    #\n",
    "    loss = np.squeeze(loss)\n",
    "    #\n",
    "    grads = {\"dw\":dw,\"db\":db}\n",
    "    return grads,loss    \n"
   ]
  },
  {
   "cell_type": "code",
   "execution_count": null,
   "metadata": {},
   "outputs": [],
   "source": [
    "w,b = initialize_zeros(np.shape(standardized_train_examples)[0])\n",
    "propagate(standardized_train_examples,labels_train,w,b)\n"
   ]
  },
  {
   "cell_type": "code",
   "execution_count": null,
   "metadata": {
    "collapsed": true
   },
   "outputs": [],
   "source": [
    "def optimizer(w, b, X, Y, learning_rate, num_iterations, print_results=True):\n",
    "    # b = scalar\n",
    "    # w = (____, 1)\n",
    "    # X = (____, examples)\n",
    "    # Y = (1, examples)\n",
    "    costs = []\n",
    "    for i in range(num_iterations):\n",
    "        grads, cost = propagate(X,Y,w,b)\n",
    "        print(cost)\n",
    "        dw = grads[\"dw\"]\n",
    "        db = grads[\"db\"]\n",
    "        w = w - (learning_rate * dw)\n",
    "        b = b - (learning_rate * db)\n",
    "        if i % 50 == 0:\n",
    "            costs += [cost]\n",
    "            print(\"cost #\",i,\":\", costs)\n",
    "    print(\"Finsihed :)\" , costs )\n",
    "    grads = {\"dw\":dw,\"db\":db}\n",
    "    params = {\"w\":w,\"b\":b}\n",
    "    return grads,params,costs"
   ]
  },
  {
   "cell_type": "code",
   "execution_count": 62,
   "metadata": {},
   "outputs": [
    {
     "name": "stdout",
     "output_type": "stream",
     "text": [
      "(21,) (1267500, 21)\n",
      "(1267500, 1) (1267500, 21) (21,)\n"
     ]
    }
   ],
   "source": [
    "print(np.shape(labels_train),np.shape(standardized_train_examples))\n",
    "print(w.shape,standardized_train_examples.shape,labels_train.shape)\n",
    "# optimizer(w,b,standardized_train_examples,labels_train,.1,1000)"
   ]
  },
  {
   "cell_type": "code",
   "execution_count": 32,
   "metadata": {
    "collapsed": true
   },
   "outputs": [],
   "source": [
    "def predictor(X,w,b):\n",
    "    # b = scalar\n",
    "    # w = (____, 1)\n",
    "    # X = (____, examples)\n",
    "    w_transposed = w.T\n",
    "    print(np.shape(w_transposed),np.shape(X))\n",
    "#     new_w = w_transposed.reshape(X.shape[0], 1)\n",
    "#     print(new_w.shape)\n",
    "#     print(np.reshape(w_transposed, X[0]))\n",
    "    prediction = (np.dot(w_transposed,X)) + b\n",
    "    prediction = sigmoid(prediction)\n",
    "    prediction *= 2.0\n",
    "    prediction = np.floor(prediction)\n",
    "    print(np.shape(prediction))\n",
    "    return prediction\n",
    "    \n"
   ]
  },
  {
   "cell_type": "code",
   "execution_count": 33,
   "metadata": {},
   "outputs": [
    {
     "name": "stdout",
     "output_type": "stream",
     "text": [
      "(1, 1267500) (1267500, 21)\n",
      "(1, 21)\n"
     ]
    }
   ],
   "source": [
    "predict_examples = (standardized_train_examples)\n",
    "# for item in predict_examples:\n",
    "#     print(np.shape(item))\n",
    "predictor(predict_examples,w,b)"
   ]
  },
  {
   "cell_type": "code",
   "execution_count": 58,
   "metadata": {
    "collapsed": true
   },
   "outputs": [],
   "source": [
    "def logisticRegression(train_X,train_Y,test_X,test_Y,learning_rate,epoch):\n",
    "    # train_x = (image_width * image_width * 3, examples)\n",
    "    # train_y = (1, examples)\n",
    "    # test_x = (____, examples)\n",
    "    # test_y = (1, examples)\n",
    "\n",
    "    print(train_X.shape)\n",
    "    num_of_examples =  np.shape(train_Y)[0]\n",
    "    train_Y = train_Y.reshape(num_of_examples,1)\n",
    "    train_Y = train_Y.T\n",
    "    print(train_Y.shape)\n",
    "#     assert()\n",
    "    w,b = initialize_zeros(num_of_examples)\n",
    "    print(w.shape)\n",
    "    _, params,_ = optimizer(w, b, train_X, train_Y, learning_rate, epoch)\n",
    "    w,b = params[\"w\"], params[\"b\"]\n",
    "    prediction_train = predictor(train_X,w,b)\n",
    "    accuracy_train = np.mean(np.abs(prediction_train - train_Y))\n",
    "    prediction_test = predictor(test_X,w,b)\n",
    "    accuracy_test = np.mean(np.abs(prediction_test - test_Y))\n",
    "    print(\"Train Accuracy:\", accuracy_train)\n",
    "    print(\"Actual Accuracy:\", accuracy_test)\n",
    "    \n",
    "    \n",
    "    \n",
    "    \n",
    "    \n",
    "    \n",
    "    \n",
    "    \n",
    "    "
   ]
  },
  {
   "cell_type": "code",
   "execution_count": 59,
   "metadata": {},
   "outputs": [
    {
     "name": "stdout",
     "output_type": "stream",
     "text": [
      "(1267500, 21)\n",
      "(1, 21)\n",
      "(21, 1)\n"
     ]
    },
    {
     "ename": "ValueError",
     "evalue": "shapes (1,21) and (1267500,21) not aligned: 21 (dim 1) != 1267500 (dim 0)",
     "output_type": "error",
     "traceback": [
      "\u001b[0;31m---------------------------------------------------------------------------\u001b[0m",
      "\u001b[0;31mValueError\u001b[0m                                Traceback (most recent call last)",
      "\u001b[0;32m<ipython-input-59-55f8f50b587a>\u001b[0m in \u001b[0;36m<module>\u001b[0;34m()\u001b[0m\n\u001b[0;32m----> 1\u001b[0;31m \u001b[0mlogisticRegression\u001b[0m\u001b[0;34m(\u001b[0m\u001b[0mstandardized_train_examples\u001b[0m\u001b[0;34m,\u001b[0m\u001b[0mlabels_train\u001b[0m\u001b[0;34m,\u001b[0m\u001b[0mstandardized_test_examples\u001b[0m\u001b[0;34m,\u001b[0m\u001b[0mlabels_test\u001b[0m\u001b[0;34m,\u001b[0m\u001b[0;36m.1\u001b[0m\u001b[0;34m,\u001b[0m\u001b[0;36m1000\u001b[0m\u001b[0;34m)\u001b[0m\u001b[0;34m\u001b[0m\u001b[0m\n\u001b[0m",
      "\u001b[0;32m<ipython-input-58-d4c0d8a05a3d>\u001b[0m in \u001b[0;36mlogisticRegression\u001b[0;34m(train_X, train_Y, test_X, test_Y, learning_rate, epoch)\u001b[0m\n\u001b[1;32m      8\u001b[0m     \u001b[0mw\u001b[0m\u001b[0;34m,\u001b[0m\u001b[0mb\u001b[0m \u001b[0;34m=\u001b[0m \u001b[0minitialize_zeros\u001b[0m\u001b[0;34m(\u001b[0m\u001b[0mnum_of_examples\u001b[0m\u001b[0;34m)\u001b[0m\u001b[0;34m\u001b[0m\u001b[0m\n\u001b[1;32m      9\u001b[0m     \u001b[0mprint\u001b[0m\u001b[0;34m(\u001b[0m\u001b[0mw\u001b[0m\u001b[0;34m.\u001b[0m\u001b[0mshape\u001b[0m\u001b[0;34m)\u001b[0m\u001b[0;34m\u001b[0m\u001b[0m\n\u001b[0;32m---> 10\u001b[0;31m     \u001b[0mgrads\u001b[0m\u001b[0;34m,\u001b[0m \u001b[0mparams\u001b[0m\u001b[0;34m,\u001b[0m\u001b[0m_\u001b[0m \u001b[0;34m=\u001b[0m \u001b[0moptimizer\u001b[0m\u001b[0;34m(\u001b[0m\u001b[0mw\u001b[0m\u001b[0;34m,\u001b[0m \u001b[0mb\u001b[0m\u001b[0;34m,\u001b[0m \u001b[0mtrain_X\u001b[0m\u001b[0;34m,\u001b[0m \u001b[0mtrain_Y\u001b[0m\u001b[0;34m,\u001b[0m \u001b[0mlearning_rate\u001b[0m\u001b[0;34m,\u001b[0m \u001b[0mepoch\u001b[0m\u001b[0;34m)\u001b[0m\u001b[0;34m\u001b[0m\u001b[0m\n\u001b[0m\u001b[1;32m     11\u001b[0m \u001b[0;34m\u001b[0m\u001b[0m\n\u001b[1;32m     12\u001b[0m \u001b[0;34m\u001b[0m\u001b[0m\n",
      "\u001b[0;32m<ipython-input-11-b04a94f44074>\u001b[0m in \u001b[0;36moptimizer\u001b[0;34m(w, b, X, Y, learning_rate, num_iterations, print_results)\u001b[0m\n\u001b[1;32m      2\u001b[0m     \u001b[0mcosts\u001b[0m \u001b[0;34m=\u001b[0m \u001b[0;34m[\u001b[0m\u001b[0;34m]\u001b[0m\u001b[0;34m\u001b[0m\u001b[0m\n\u001b[1;32m      3\u001b[0m     \u001b[0;32mfor\u001b[0m \u001b[0mi\u001b[0m \u001b[0;32min\u001b[0m \u001b[0mrange\u001b[0m\u001b[0;34m(\u001b[0m\u001b[0mnum_iterations\u001b[0m\u001b[0;34m)\u001b[0m\u001b[0;34m:\u001b[0m\u001b[0;34m\u001b[0m\u001b[0m\n\u001b[0;32m----> 4\u001b[0;31m         \u001b[0mgrads\u001b[0m\u001b[0;34m,\u001b[0m \u001b[0mcost\u001b[0m \u001b[0;34m=\u001b[0m \u001b[0mpropagate\u001b[0m\u001b[0;34m(\u001b[0m\u001b[0mX\u001b[0m\u001b[0;34m,\u001b[0m\u001b[0mY\u001b[0m\u001b[0;34m,\u001b[0m\u001b[0mw\u001b[0m\u001b[0;34m,\u001b[0m\u001b[0mb\u001b[0m\u001b[0;34m)\u001b[0m\u001b[0;34m\u001b[0m\u001b[0m\n\u001b[0m\u001b[1;32m      5\u001b[0m         \u001b[0mprint\u001b[0m\u001b[0;34m(\u001b[0m\u001b[0mcost\u001b[0m\u001b[0;34m)\u001b[0m\u001b[0;34m\u001b[0m\u001b[0m\n\u001b[1;32m      6\u001b[0m         \u001b[0mdw\u001b[0m \u001b[0;34m=\u001b[0m \u001b[0mgrads\u001b[0m\u001b[0;34m[\u001b[0m\u001b[0;34m\"dw\"\u001b[0m\u001b[0;34m]\u001b[0m\u001b[0;34m\u001b[0m\u001b[0m\n",
      "\u001b[0;32m<ipython-input-47-e3d79473c9a4>\u001b[0m in \u001b[0;36mpropagate\u001b[0;34m(X, Y, w, b)\u001b[0m\n\u001b[1;32m      5\u001b[0m \u001b[0;31m#     print(np.shape(w_transposed))\u001b[0m\u001b[0;34m\u001b[0m\u001b[0;34m\u001b[0m\u001b[0m\n\u001b[1;32m      6\u001b[0m     \u001b[0;31m# format printing of shapes so that you can see the dot product\u001b[0m\u001b[0;34m\u001b[0m\u001b[0;34m\u001b[0m\u001b[0m\n\u001b[0;32m----> 7\u001b[0;31m     \u001b[0mdot_product\u001b[0m \u001b[0;34m=\u001b[0m \u001b[0mnp\u001b[0m\u001b[0;34m.\u001b[0m\u001b[0mdot\u001b[0m\u001b[0;34m(\u001b[0m\u001b[0mw_transposed\u001b[0m\u001b[0;34m,\u001b[0m\u001b[0mX\u001b[0m\u001b[0;34m)\u001b[0m \u001b[0;31m#dot product of X and w ORDER MATTERS\u001b[0m\u001b[0;34m\u001b[0m\u001b[0m\n\u001b[0m\u001b[1;32m      8\u001b[0m \u001b[0;31m#     print(np.shape(dot_product))\u001b[0m\u001b[0;34m\u001b[0m\u001b[0;34m\u001b[0m\u001b[0m\n\u001b[1;32m      9\u001b[0m     \u001b[0mz\u001b[0m \u001b[0;34m=\u001b[0m \u001b[0mdot_product\u001b[0m \u001b[0;34m+\u001b[0m \u001b[0mb\u001b[0m\u001b[0;34m\u001b[0m\u001b[0m\n",
      "\u001b[0;31mValueError\u001b[0m: shapes (1,21) and (1267500,21) not aligned: 21 (dim 1) != 1267500 (dim 0)"
     ]
    }
   ],
   "source": [
    "logisticRegression(standardized_train_examples,labels_train,standardized_test_examples,labels_test,.1,1000)"
   ]
  },
  {
   "cell_type": "code",
   "execution_count": null,
   "metadata": {
    "collapsed": true
   },
   "outputs": [],
   "source": []
  }
 ],
 "metadata": {
  "kernelspec": {
   "display_name": "Python 3",
   "language": "python",
   "name": "python3"
  },
  "language_info": {
   "codemirror_mode": {
    "name": "ipython",
    "version": 3
   },
   "file_extension": ".py",
   "mimetype": "text/x-python",
   "name": "python",
   "nbconvert_exporter": "python",
   "pygments_lexer": "ipython3",
   "version": "3.6.3"
  }
 },
 "nbformat": 4,
 "nbformat_minor": 2
}

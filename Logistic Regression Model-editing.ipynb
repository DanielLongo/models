{
 "cells": [
  {
   "cell_type": "markdown",
   "metadata": {},
   "source": [
    "Logistic Regression Cow Classifier"
   ]
  },
  {
   "cell_type": "code",
   "execution_count": 33,
   "metadata": {
    "collapsed": true
   },
   "outputs": [],
   "source": [
    "#Image classifer with logistic regression\n",
    "#images shape(width,height,3(rgb))\n",
    "\n",
    "import numpy as np\n",
    "import scipy \n",
    "import os\n",
    "import matplotlib.pyplot as plot\n",
    "import math\n",
    "from scipy import ndimage\n",
    "import sys \n",
    "sys.path.append(\"./basicFunctions.py\")\n",
    "# import crossEntropyLoss from basicFunctions\n",
    "\n",
    "# TO-DO\n",
    "# fetch a ton more images, of your own choice / category \n",
    "# create a train and a test set <---- write code for this "
   ]
  },
  {
   "cell_type": "code",
   "execution_count": 34,
   "metadata": {},
   "outputs": [
    {
     "name": "stdout",
     "output_type": "stream",
     "text": [
      "(1, 3) a\n"
     ]
    },
    {
     "name": "stderr",
     "output_type": "stream",
     "text": [
      "/anaconda3/lib/python3.6/site-packages/ipykernel_launcher.py:5: RuntimeWarning: divide by zero encountered in log\n",
      "  \"\"\"\n"
     ]
    },
    {
     "data": {
      "text/plain": [
       "inf"
      ]
     },
     "execution_count": 34,
     "metadata": {},
     "output_type": "execute_result"
    }
   ],
   "source": [
    "# Testing cross entropy function\n",
    "test_x = np.asarray([[1,1,1]])\n",
    "test_y = np.asarray([[.8,.9,.4]])\n",
    "crossEntropyLoss(test_x,test_y)\n"
   ]
  },
  {
   "cell_type": "code",
   "execution_count": 35,
   "metadata": {
    "collapsed": true
   },
   "outputs": [],
   "source": [
    "# Global Constants\n",
    "# side_length = 650\n",
    "# image_path = \"./untitled folder/\"\n",
    "# test_ratio = .2"
   ]
  },
  {
   "cell_type": "code",
   "execution_count": 36,
   "metadata": {
    "collapsed": true
   },
   "outputs": [],
   "source": [
    "side_length = 650\n",
    "image_path = \"./Logistic_Regression_Data/\"\n",
    "test_ratio = .2"
   ]
  },
  {
   "cell_type": "code",
   "execution_count": 37,
   "metadata": {
    "collapsed": true
   },
   "outputs": [],
   "source": [
    "def getImageArrays(path, side_length):\n",
    "    image_names = os.listdir(path)\n",
    "    examples = []\n",
    "    for image_name in image_names:\n",
    "        if image_name.split(\".\")[-1] != \"DS_Store\":\n",
    "            cur_image_path = path + image_name\n",
    "            cur_array = scipy.ndimage.imread(cur_image_path,flatten=False) #reads image as numpy array (lenght,height,3)\n",
    "            cur_array_resized = scipy.misc.imresize(cur_array,size=(side_length,side_length,3)) #resizes images to a uniform shape\n",
    "            examples += [cur_array_resized] \n",
    "    return examples\n",
    "        "
   ]
  },
  {
   "cell_type": "code",
   "execution_count": 38,
   "metadata": {},
   "outputs": [
    {
     "name": "stdout",
     "output_type": "stream",
     "text": [
      "Examples: (200, 650, 650, 3)\n",
      "Labels: (200,)\n"
     ]
    }
   ],
   "source": [
    "#create arrays from images with labels\n",
    "cow_images_path = image_path + \"cows/\"\n",
    "notCow_image_path = image_path + \"notcows/\"\n",
    "\n",
    "examples_cow = getImageArrays(cow_images_path, side_length)\n",
    "labels_cow = np.ones(len(examples_cow))\n",
    "examples_notCow = getImageArrays(cow_images_path, side_length)\n",
    "labels_notCow = np.zeros(len(examples_notCow))\n",
    "\n",
    "examples_cow = np.array(examples_cow)\n",
    "examples_notCow = np.array(examples_notCow)\n",
    "\n",
    "assert(examples_cow.shape[1:] == (side_length,side_length,3)), \"examples_cow are invalid shape\"\n",
    "print(\"Examples:\",np.shape(examples_cow))\n",
    "print(\"Labels:\",np.shape(labels_cow))\n",
    "examples = np.concatenate((examples_cow,examples_notCow))\n",
    "labels = np.concatenate((labels_cow,labels_notCow))"
   ]
  },
  {
   "cell_type": "code",
   "execution_count": 39,
   "metadata": {},
   "outputs": [
    {
     "name": "stdout",
     "output_type": "stream",
     "text": [
      "400\n",
      "400\n",
      "80\n",
      "80\n",
      "test_examples (80, 650, 650, 3)\n",
      "test_labels (80,)\n",
      "train_examples (320, 650, 650, 3)\n",
      "train_labels (320,)\n"
     ]
    }
   ],
   "source": [
    "#create train and test examples\n",
    "print(len(examples))\n",
    "print(len(labels))\n",
    "number_test_examples = int(len(examples)*test_ratio)\n",
    "number_test_labels = int(len(labels)*test_ratio)\n",
    "print(number_test_examples)\n",
    "print(number_test_examples)\n",
    "test_examples = examples[:number_test_examples]\n",
    "train_examples = examples[number_test_examples:]\n",
    "\n",
    "labels_test = labels[:number_test_labels]\n",
    "labels_train = labels[number_test_labels:]\n",
    "\n",
    "print(\"test_examples\", np.shape(test_examples))\n",
    "print(\"test_labels\", np.shape(labels_test))\n",
    "print(\"train_examples\", np.shape(train_examples))\n",
    "print(\"train_labels\", np.shape(labels_train))"
   ]
  },
  {
   "cell_type": "code",
   "execution_count": 40,
   "metadata": {},
   "outputs": [
    {
     "name": "stdout",
     "output_type": "stream",
     "text": [
      "(1267500, 320)\n",
      "(1267500, 80)\n",
      "[[ 0.83137255  0.43529412  0.84705882 ...,  0.70196078  0.77254902\n",
      "   0.53333333]\n",
      " [ 0.88627451  0.41568627  0.87058824 ...,  0.65098039  0.80784314\n",
      "   0.58039216]\n",
      " [ 0.92156863  0.4         0.87058824 ...,  0.57647059  0.86666667\n",
      "   0.32941176]\n",
      " ..., \n",
      " [ 0.29019608  0.49019608  0.45882353 ...,  0.38823529  0.38039216\n",
      "   0.34509804]\n",
      " [ 0.40392157  0.47843137  0.45882353 ...,  0.41960784  0.42745098\n",
      "   0.34901961]\n",
      " [ 0.18431373  0.34901961  0.10588235 ...,  0.11764706  0.14509804\n",
      "   0.12156863]]\n"
     ]
    }
   ],
   "source": [
    "#some final operations of examples\n",
    "flattened_train_examples = train_examples.reshape(train_examples.shape[0], -1).T\n",
    "flattened_test_examples = test_examples.reshape(test_examples.shape[0], -1).T\n",
    "\n",
    "print(np.shape(flattened_train_examples))\n",
    "print(np.shape(flattened_test_examples))\n",
    "\n",
    "# Standardize color values of the image (decrease computational cost durring cross entropy)                                                                                                                                                                                                                                                                            \n",
    "standardized_train_examples = flattened_train_examples/255 #225 is the maximum rgb value/ This is done to decrease varaince in inputs thus more efficint\n",
    "standardized_test_examples = flattened_test_examples/255\n",
    "print(standardized_train_examples)"
   ]
  },
  {
   "cell_type": "code",
   "execution_count": 41,
   "metadata": {
    "collapsed": true
   },
   "outputs": [],
   "source": [
    "# #\n",
    "# test0 = \"./untitled folder/\" + \"cow0.jpg\" #standardize file extensions\n",
    "# test1 = \"./untitled folder/\" + \"notCow0.jpg\" \n",
    "# test0Array = scipy.ndimage.imread(test0,flatten=False)\n",
    "# test1Array = scipy.ndimage.imread(test1,flatten=False) \n",
    "# print(\"Shape of Test Image 0:\", np.shape(test0Array))\n",
    "# print(\"Shape of Test Image 1:\", np.shape(test1Array))\n",
    "\n",
    "# # Resize input image arrays \n",
    "# test0Array_resized = scipy.misc.imresize(test0Array,size=(side_length,side_length,3))\n",
    "# test1Array_resized = scipy.misc.imresize(test1Array,size=(side_length,side_length,3))"
   ]
  },
  {
   "cell_type": "code",
   "execution_count": 42,
   "metadata": {
    "collapsed": true
   },
   "outputs": [],
   "source": [
    "# # Read in input image files into arrays, validate inputs\n",
    "# images = os.listdir(image_path)\n",
    "\n",
    "# # First, build dataset for training data\n",
    "# examples = []\n",
    "# labels = []\n",
    "# for image in images:\n",
    "#     if image.split(\".\")[-1] != \"DS_Store\":\n",
    "#         cur_label = 0\n",
    "#         if image[0] == \"c\":\n",
    "#             cur_label = 1\n",
    "#         labels += [cur_label]\n",
    "#         cur_image_path = image_path + image\n",
    "#         cur_array = scipy.ndimage.imread(cur_image_path,flatten=False) #reads image as numpy array (lenght,height,3)\n",
    "#         cur_array_resized = scipy.misc.imresize(cur_array,size=(side_length,side_length,3)) #resizes images to a uniform shape\n",
    "#         examples += [cur_array_resized] \n",
    "# # print(labels)\n",
    "\n",
    "# print(\"Shape of train_examples:\",np.shape(examples)) #should be (len(images),side_length,side_length,3)\n",
    "\n",
    "# # Then, build dataset for train and test data...\n",
    "# number_test_examples = int(len(examples)*test_ratio)\n",
    "# test_examples = examples[:number_test_examples]\n",
    "# train_examples = examples[number_test_examples:]\n",
    "\n",
    "# train_examples = np.array(train_examples) #converts the list of examples to an array\n",
    "# test_examples = np.array(test_examples) \n",
    "\n",
    "\n",
    "# # Next, we flatten our train and test examples\n",
    "# # .T => transposes our inputs\n",
    "# # (a, b, c, d) ----> (b * c * d, a)\n",
    "\n",
    "# flattened_train_examples = train_examples.reshape(train_examples.shape[0], -1).T\n",
    "# flattened_test_examples = test_examples.reshape(test_examples.shape[0], -1).T\n",
    "# # print(type(train_examples[0]))\n",
    "# # flattened_train_examples = train_examples.reshape(train_examples[0],-1).T\n",
    "# #fattened_train_examples = train_examples.flatten()\n",
    "# print(np.shape(flattened_train_examples))\n",
    "# print(np.shape(flattened_test_examples))\n",
    "\n",
    "# # print(\"Shape of test0Array_resized:\",np.shape(test0Array_resized))\n",
    "\n",
    "# # Standardize color values of the image \n",
    "# standardized_train_examples = flattened_train_examples/255 #225 is the maximum rgb value/ This is done to decrease varaince in inputs thus more efficint\n",
    "# standardized_test_examples = flattened_test_examples/255\n",
    "# print(standardized_train_examples)\n",
    "\n",
    "\n",
    "# # Create labels for data\n",
    "# # labels = [1,1,1,1,1,1,1,1,1,1,1,1,1,1,1,0,0,0,0,0,0,0,0,0,0,0]\n",
    "# labels_train  = np.array(labels[:21])\n",
    "# labels_test = np.array(labels[21:])\n",
    "# # Randomize and shuffle labels/data"
   ]
  },
  {
   "cell_type": "code",
   "execution_count": 55,
   "metadata": {
    "collapsed": true
   },
   "outputs": [],
   "source": [
    "def crossEntropyLoss(a,Y):\n",
    "    print(Y.shape)\n",
    "    m = Y.shape[1] #len(Y) doesn't work, need 2nd dimesnion\n",
    "#     a = a.T\n",
    "    loss = -(1 / m) * np.sum(Y * np.log(a) + (1 - Y) * np.log(1 - a))\n",
    "    print(loss,\"loss\")\n",
    "    return loss"
   ]
  },
  {
   "cell_type": "code",
   "execution_count": 44,
   "metadata": {},
   "outputs": [],
   "source": [
    "def sigmoid(x):\n",
    "    output = 1.0/(1.0+np.exp(-x))\n",
    "    return output\n",
    "    \n",
    "# print(sigmoid(np.array([0,2])))\n",
    "# write test cases for this function so that it works for np arrays "
   ]
  },
  {
   "cell_type": "code",
   "execution_count": 45,
   "metadata": {
    "collapsed": true
   },
   "outputs": [],
   "source": [
    "def initialize_zeros(dimension): #dimension = len(flattened_examples)\n",
    "    zeroed_weights = np.zeros((dimension, 1)) \n",
    "    zeroed_baisies = 0. #baisies always start at 0 b/c they are developed as the model trains\n",
    "    \n",
    "    # asserts here, use isinstance()\n",
    "    # check shape of zeroed weight\n",
    "    assert(isinstance(zeroed_baisies, float) or isinstance(zeroed_baisies, int))\n",
    "    \n",
    "    return zeroed_weights, zeroed_baisies\n",
    "    \n",
    "# initialize_zeros(10)\n",
    "# write test cases for this function <--- use asserts, check that zeored_weights and zeored_baisies are of the right\n",
    "# type. "
   ]
  },
  {
   "cell_type": "code",
   "execution_count": 59,
   "metadata": {
    "collapsed": true
   },
   "outputs": [],
   "source": [
    "def propagate(X,Y,w,b):\n",
    "    # b = scalar\n",
    "    # w = (____, 1)\n",
    "    # X = (____, examples)\n",
    "    # Y = (1, examples)\n",
    "    print(\"propagate shapes\")\n",
    "    print(\"X\",np.shape(X))\n",
    "    print(\"Y\",np.shape(Y))\n",
    "    print(\"w\",np.shape(w))\n",
    "    print(\"b\",np.shape(b))\n",
    "    \n",
    "    w_transposed = w.T\n",
    "    num_of_examples = np.shape(X)[1]\n",
    "    \n",
    "    dot_product = np.dot(w_transposed,X) #dot product of X and w ORDER MATTERS\n",
    "    z = dot_product + b\n",
    "    print(\"z\",np.shape(z))\n",
    "    a = sigmoid(z) #in begining should be 0\n",
    "    loss = crossEntropyLoss(a,Y)\n",
    "    #loss = (-1/num_of_examples)*np.sum((1-Y)*np.log(1-a) + (Y *np.log(a))) #log likelyhood cost for logistic regression\n",
    "    print(\"loss\",loss)\n",
    "    dw = (1/num_of_examples) * np.dot(X,(a-Y).T) #?\n",
    "    #\n",
    "    db = (1/num_of_examples) * np.sum(a-Y) #np.sum collapes input\n",
    "    #\n",
    "    loss = np.squeeze(loss)\n",
    "    #\n",
    "    grads = {\"dw\":dw,\"db\":db}\n",
    "    return grads,loss    \n"
   ]
  },
  {
   "cell_type": "code",
   "execution_count": 47,
   "metadata": {
    "scrolled": true
   },
   "outputs": [
    {
     "name": "stdout",
     "output_type": "stream",
     "text": [
      "propagate shapes\n",
      "X (2, 3)\n",
      "Y (1, 3)\n",
      "w (2, 1)\n",
      "b ()\n",
      "z (1, 3)\n",
      "(1, 3) a\n",
      "loss 5.80154531939\n",
      "dw = [[ 0.99845601]\n",
      " [ 2.39507239]]\n",
      "db = 0.00145557813678\n",
      "cost = 5.80154531939\n"
     ]
    }
   ],
   "source": [
    "w, b, X, Y = np.array([[1.],[2.]]), 2., np.array([[1.,2.,-1.],[3.,4.,-3.2]]), np.array([[1,0,1]])\n",
    "grads, cost = propagate(X, Y,w,b)\n",
    "print (\"dw = \" + str(grads[\"dw\"]))\n",
    "print (\"db = \" + str(grads[\"db\"]))\n",
    "print (\"cost = \" + str(cost))"
   ]
  },
  {
   "cell_type": "code",
   "execution_count": 58,
   "metadata": {
    "collapsed": true
   },
   "outputs": [],
   "source": [
    "def optimizer(w, b, X, Y, learning_rate, num_iterations, print_results=True):\n",
    "    # b = scalar\n",
    "    # w = (____, 1)\n",
    "    # X = (____, examples)\n",
    "    # Y = (1, examples)\n",
    "    print(\"optimizer shapes\")\n",
    "    print(\"X\",np.shape(X))\n",
    "    print(\"Y\",np.shape(Y))\n",
    "    print(\"w\",np.shape(w))\n",
    "    print(\"b\",np.shape(b))\n",
    "    costs = []\n",
    "#     print(\"X in optimizer\",np.shape(X),\"Y in optimizer\",np.shape(Y))\n",
    "    for i in range(num_iterations):\n",
    "        grads, cost = propagate(X,Y,w,b)\n",
    "        print(cost)\n",
    "        dw = grads[\"dw\"]\n",
    "        db = grads[\"db\"]\n",
    "        w = w - (learning_rate * dw)\n",
    "        b = b - (learning_rate * db)\n",
    "        if (i % 50 == 0) and (print_results == True):\n",
    "            costs += [cost]\n",
    "            print(\"cost #\",i,\":\", costs)\n",
    "    if print_results == True:\n",
    "        print(\"Finsihed :)\" , costs )\n",
    "    grads = {\"dw\":dw,\"db\":db}\n",
    "    params = {\"w\":w,\"b\":b}\n",
    "    return grads,params,costs"
   ]
  },
  {
   "cell_type": "code",
   "execution_count": 49,
   "metadata": {
    "scrolled": true
   },
   "outputs": [
    {
     "name": "stdout",
     "output_type": "stream",
     "text": [
      "shapes before optimizer\n",
      "X Shape (1267500, 320) Y Shape (320,)\n",
      "Weights Shape (2, 1) Baisies shape ()\n",
      "propagate shapes\n",
      "X (1267500, 320)\n",
      "Y (320,)\n",
      "w (2, 1)\n",
      "b ()\n"
     ]
    },
    {
     "ename": "ValueError",
     "evalue": "shapes (1,2) and (1267500,320) not aligned: 2 (dim 1) != 1267500 (dim 0)",
     "output_type": "error",
     "traceback": [
      "\u001b[0;31m---------------------------------------------------------------------------\u001b[0m",
      "\u001b[0;31mValueError\u001b[0m                                Traceback (most recent call last)",
      "\u001b[0;32m<ipython-input-49-7377f23100ef>\u001b[0m in \u001b[0;36m<module>\u001b[0;34m()\u001b[0m\n\u001b[1;32m      2\u001b[0m \u001b[0mprint\u001b[0m\u001b[0;34m(\u001b[0m\u001b[0;34m\"X Shape\"\u001b[0m\u001b[0;34m,\u001b[0m \u001b[0mnp\u001b[0m\u001b[0;34m.\u001b[0m\u001b[0mshape\u001b[0m\u001b[0;34m(\u001b[0m\u001b[0mstandardized_train_examples\u001b[0m\u001b[0;34m)\u001b[0m\u001b[0;34m,\u001b[0m\u001b[0;34m\"Y Shape\"\u001b[0m\u001b[0;34m,\u001b[0m \u001b[0mnp\u001b[0m\u001b[0;34m.\u001b[0m\u001b[0mshape\u001b[0m\u001b[0;34m(\u001b[0m\u001b[0mlabels_train\u001b[0m\u001b[0;34m)\u001b[0m\u001b[0;34m)\u001b[0m\u001b[0;34m\u001b[0m\u001b[0m\n\u001b[1;32m      3\u001b[0m \u001b[0mprint\u001b[0m\u001b[0;34m(\u001b[0m\u001b[0;34m\"Weights Shape\"\u001b[0m\u001b[0;34m,\u001b[0m\u001b[0mnp\u001b[0m\u001b[0;34m.\u001b[0m\u001b[0mshape\u001b[0m\u001b[0;34m(\u001b[0m\u001b[0mw\u001b[0m\u001b[0;34m)\u001b[0m\u001b[0;34m,\u001b[0m\u001b[0;34m\"Baisies shape\"\u001b[0m\u001b[0;34m,\u001b[0m\u001b[0mnp\u001b[0m\u001b[0;34m.\u001b[0m\u001b[0mshape\u001b[0m\u001b[0;34m(\u001b[0m\u001b[0mb\u001b[0m\u001b[0;34m)\u001b[0m\u001b[0;34m)\u001b[0m\u001b[0;34m\u001b[0m\u001b[0m\n\u001b[0;32m----> 4\u001b[0;31m \u001b[0moptimizer\u001b[0m\u001b[0;34m(\u001b[0m\u001b[0mw\u001b[0m\u001b[0;34m,\u001b[0m\u001b[0mb\u001b[0m\u001b[0;34m,\u001b[0m\u001b[0mstandardized_train_examples\u001b[0m\u001b[0;34m,\u001b[0m\u001b[0mlabels_train\u001b[0m\u001b[0;34m,\u001b[0m\u001b[0;36m.1\u001b[0m\u001b[0;34m,\u001b[0m\u001b[0;36m10\u001b[0m\u001b[0;34m)\u001b[0m\u001b[0;34m\u001b[0m\u001b[0m\n\u001b[0m",
      "\u001b[0;32m<ipython-input-48-fa1f9245068d>\u001b[0m in \u001b[0;36moptimizer\u001b[0;34m(w, b, X, Y, learning_rate, num_iterations, print_results)\u001b[0m\n\u001b[1;32m      7\u001b[0m \u001b[0;31m#     print(\"X in optimizer\",np.shape(X),\"Y in optimizer\",np.shape(Y))\u001b[0m\u001b[0;34m\u001b[0m\u001b[0;34m\u001b[0m\u001b[0m\n\u001b[1;32m      8\u001b[0m     \u001b[0;32mfor\u001b[0m \u001b[0mi\u001b[0m \u001b[0;32min\u001b[0m \u001b[0mrange\u001b[0m\u001b[0;34m(\u001b[0m\u001b[0mnum_iterations\u001b[0m\u001b[0;34m)\u001b[0m\u001b[0;34m:\u001b[0m\u001b[0;34m\u001b[0m\u001b[0m\n\u001b[0;32m----> 9\u001b[0;31m         \u001b[0mgrads\u001b[0m\u001b[0;34m,\u001b[0m \u001b[0mcost\u001b[0m \u001b[0;34m=\u001b[0m \u001b[0mpropagate\u001b[0m\u001b[0;34m(\u001b[0m\u001b[0mX\u001b[0m\u001b[0;34m,\u001b[0m\u001b[0mY\u001b[0m\u001b[0;34m,\u001b[0m\u001b[0mw\u001b[0m\u001b[0;34m,\u001b[0m\u001b[0mb\u001b[0m\u001b[0;34m)\u001b[0m\u001b[0;34m\u001b[0m\u001b[0m\n\u001b[0m\u001b[1;32m     10\u001b[0m         \u001b[0mprint\u001b[0m\u001b[0;34m(\u001b[0m\u001b[0mcost\u001b[0m\u001b[0;34m)\u001b[0m\u001b[0;34m\u001b[0m\u001b[0m\n\u001b[1;32m     11\u001b[0m         \u001b[0mdw\u001b[0m \u001b[0;34m=\u001b[0m \u001b[0mgrads\u001b[0m\u001b[0;34m[\u001b[0m\u001b[0;34m\"dw\"\u001b[0m\u001b[0;34m]\u001b[0m\u001b[0;34m\u001b[0m\u001b[0m\n",
      "\u001b[0;32m<ipython-input-46-5458a751247d>\u001b[0m in \u001b[0;36mpropagate\u001b[0;34m(X, Y, w, b)\u001b[0m\n\u001b[1;32m     13\u001b[0m     \u001b[0mnum_of_examples\u001b[0m \u001b[0;34m=\u001b[0m \u001b[0mnp\u001b[0m\u001b[0;34m.\u001b[0m\u001b[0mshape\u001b[0m\u001b[0;34m(\u001b[0m\u001b[0mX\u001b[0m\u001b[0;34m)\u001b[0m\u001b[0;34m[\u001b[0m\u001b[0;36m1\u001b[0m\u001b[0;34m]\u001b[0m\u001b[0;34m\u001b[0m\u001b[0m\n\u001b[1;32m     14\u001b[0m \u001b[0;34m\u001b[0m\u001b[0m\n\u001b[0;32m---> 15\u001b[0;31m     \u001b[0mdot_product\u001b[0m \u001b[0;34m=\u001b[0m \u001b[0mnp\u001b[0m\u001b[0;34m.\u001b[0m\u001b[0mdot\u001b[0m\u001b[0;34m(\u001b[0m\u001b[0mw_transposed\u001b[0m\u001b[0;34m,\u001b[0m\u001b[0mX\u001b[0m\u001b[0;34m)\u001b[0m \u001b[0;31m#dot product of X and w ORDER MATTERS\u001b[0m\u001b[0;34m\u001b[0m\u001b[0m\n\u001b[0m\u001b[1;32m     16\u001b[0m     \u001b[0mz\u001b[0m \u001b[0;34m=\u001b[0m \u001b[0mdot_product\u001b[0m \u001b[0;34m+\u001b[0m \u001b[0mb\u001b[0m\u001b[0;34m\u001b[0m\u001b[0m\n\u001b[1;32m     17\u001b[0m     \u001b[0mprint\u001b[0m\u001b[0;34m(\u001b[0m\u001b[0;34m\"z\"\u001b[0m\u001b[0;34m,\u001b[0m\u001b[0mnp\u001b[0m\u001b[0;34m.\u001b[0m\u001b[0mshape\u001b[0m\u001b[0;34m(\u001b[0m\u001b[0mz\u001b[0m\u001b[0;34m)\u001b[0m\u001b[0;34m)\u001b[0m\u001b[0;34m\u001b[0m\u001b[0m\n",
      "\u001b[0;31mValueError\u001b[0m: shapes (1,2) and (1267500,320) not aligned: 2 (dim 1) != 1267500 (dim 0)"
     ]
    }
   ],
   "source": [
    "print(\"shapes before optimizer\")\n",
    "print(\"X Shape\", np.shape(standardized_train_examples),\"Y Shape\", np.shape(labels_train))\n",
    "print(\"Weights Shape\",np.shape(w),\"Baisies shape\",np.shape(b))\n",
    "optimizer(w,b,standardized_train_examples,labels_train,.1,10)"
   ]
  },
  {
   "cell_type": "code",
   "execution_count": 61,
   "metadata": {
    "collapsed": true
   },
   "outputs": [],
   "source": [
    "def predictor(X,w,b):\n",
    "    # b = scalar\n",
    "    # w = (____, 1)\n",
    "    # X = (____, examples)\n",
    "    print(\"predictor shapes\")\n",
    "    print(\"X\",np.shape(X))\n",
    "    print(\"w\",np.shape(w))\n",
    "    print(\"b\",np.shape(b))\n",
    "    w_transposed = w.T\n",
    "#     print(np.shape(w_transposed),np.shape(X))\n",
    "#     new_w = w_transposed.reshape(X.shape[0], 1)\n",
    "#     print(new_w.shape)\n",
    "#     print(np.reshape(w_transposed, X[0]))\n",
    "    prediction = (np.dot(w_transposed,X)) + b\n",
    "    prediction = sigmoid(prediction)\n",
    "    prediction *= 2.0\n",
    "    prediction = np.floor(prediction)\n",
    "#     print(np.shape(prediction))\n",
    "    return prediction\n",
    "    \n"
   ]
  },
  {
   "cell_type": "code",
   "execution_count": null,
   "metadata": {},
   "outputs": [],
   "source": [
    "predict_examples = (standardized_train_examples)\n",
    "# for item in predict_examples:\n",
    "#     print(np.shape(item))\n",
    "predictor(predict_examples,w,b)"
   ]
  },
  {
   "cell_type": "code",
   "execution_count": 51,
   "metadata": {
    "collapsed": true
   },
   "outputs": [],
   "source": [
    "def logisticRegression(train_X,train_Y,test_X,test_Y,learning_rate,epoch):\n",
    "    # train_x = (image_width * image_width * 3, training_examples)\n",
    "    # train_y = (1, train_examples)\n",
    "    # test_x = (____, test_examples)\n",
    "    # test_y = (1, test_examples)\n",
    "\n",
    "    print(train_X.shape)\n",
    "    \n",
    "    num_of_examples =  np.shape(train_Y)[0]\n",
    "#     train_Y = train_Y.reshape(num_of_examples,1)\n",
    "#     train_Y = train_Y.T \n",
    "    w,b = initialize_zeros(side_length*side_length*3)\n",
    "#     print(\"shapes before optimizer\",np.shape(train_X),np.shape(train_Y))\n",
    "    print(\"shapes before optimizer IIIIIII\")\n",
    "    print(\"X Shape\", np.shape(train_X),\"Y Shape\", np.shape(train_Y))\n",
    "    print(\"Weights Shape\",np.shape(w),\"Baisies shape\",np.shape(b))\n",
    "    _, params,_ = optimizer(w, b, train_X, train_Y, learning_rate, epoch)\n",
    "    w,b = params[\"w\"], params[\"b\"]\n",
    "    prediction_train = predictor(train_X,w,b)\n",
    "    accuracy_train = np.mean(np.abs(prediction_train - train_Y))\n",
    "    prediction_test = predictor(test_X,w,b)\n",
    "    accuracy_test = np.mean(np.abs(prediction_test - test_Y))\n",
    "    print(\"Train Accuracy:\", accuracy_train)\n",
    "    print(\"Actual Accuracy:\", accuracy_test)\n",
    "        "
   ]
  },
  {
   "cell_type": "code",
   "execution_count": 62,
   "metadata": {},
   "outputs": [
    {
     "name": "stdout",
     "output_type": "stream",
     "text": [
      "(1267500, 320) train_X\n",
      "(320,) train_Y\n",
      "(1267500, 80) test_X\n",
      "(80,) test_Y\n",
      "(1267500, 320)\n",
      "shapes before optimizer IIIIIII\n",
      "X Shape (1267500, 320) Y Shape (320,)\n",
      "Weights Shape (1267500, 1) Baisies shape ()\n",
      "optimizer shapes\n",
      "X (1267500, 320)\n",
      "Y (320,)\n",
      "w (1267500, 1)\n",
      "b ()\n",
      "propagate shapes\n",
      "X (1267500, 320)\n",
      "Y (320,)\n",
      "w (1267500, 1)\n",
      "b ()\n",
      "z (1, 320)\n",
      "(320,)\n"
     ]
    },
    {
     "ename": "IndexError",
     "evalue": "tuple index out of range",
     "output_type": "error",
     "traceback": [
      "\u001b[0;31m---------------------------------------------------------------------------\u001b[0m",
      "\u001b[0;31mIndexError\u001b[0m                                Traceback (most recent call last)",
      "\u001b[0;32m<ipython-input-62-3dddd57e0980>\u001b[0m in \u001b[0;36m<module>\u001b[0;34m()\u001b[0m\n\u001b[1;32m      9\u001b[0m \u001b[0mprint\u001b[0m\u001b[0;34m(\u001b[0m\u001b[0mtest_X\u001b[0m\u001b[0;34m.\u001b[0m\u001b[0mshape\u001b[0m\u001b[0;34m,\u001b[0m\u001b[0;34m\"test_X\"\u001b[0m\u001b[0;34m)\u001b[0m\u001b[0;34m\u001b[0m\u001b[0m\n\u001b[1;32m     10\u001b[0m \u001b[0mprint\u001b[0m\u001b[0;34m(\u001b[0m\u001b[0mtest_Y\u001b[0m\u001b[0;34m.\u001b[0m\u001b[0mshape\u001b[0m\u001b[0;34m,\u001b[0m\u001b[0;34m\"test_Y\"\u001b[0m\u001b[0;34m)\u001b[0m\u001b[0;34m\u001b[0m\u001b[0m\n\u001b[0;32m---> 11\u001b[0;31m \u001b[0mlogisticRegression\u001b[0m\u001b[0;34m(\u001b[0m\u001b[0mtrain_X\u001b[0m\u001b[0;34m,\u001b[0m\u001b[0mtrain_Y\u001b[0m\u001b[0;34m,\u001b[0m\u001b[0mtest_X\u001b[0m\u001b[0;34m,\u001b[0m\u001b[0mtest_Y\u001b[0m\u001b[0;34m,\u001b[0m\u001b[0mlearning_rate\u001b[0m\u001b[0;34m,\u001b[0m\u001b[0mepoch\u001b[0m\u001b[0;34m)\u001b[0m\u001b[0;34m\u001b[0m\u001b[0m\n\u001b[0m",
      "\u001b[0;32m<ipython-input-51-16ae5c3bbae9>\u001b[0m in \u001b[0;36mlogisticRegression\u001b[0;34m(train_X, train_Y, test_X, test_Y, learning_rate, epoch)\u001b[0m\n\u001b[1;32m     15\u001b[0m     \u001b[0mprint\u001b[0m\u001b[0;34m(\u001b[0m\u001b[0;34m\"X Shape\"\u001b[0m\u001b[0;34m,\u001b[0m \u001b[0mnp\u001b[0m\u001b[0;34m.\u001b[0m\u001b[0mshape\u001b[0m\u001b[0;34m(\u001b[0m\u001b[0mtrain_X\u001b[0m\u001b[0;34m)\u001b[0m\u001b[0;34m,\u001b[0m\u001b[0;34m\"Y Shape\"\u001b[0m\u001b[0;34m,\u001b[0m \u001b[0mnp\u001b[0m\u001b[0;34m.\u001b[0m\u001b[0mshape\u001b[0m\u001b[0;34m(\u001b[0m\u001b[0mtrain_Y\u001b[0m\u001b[0;34m)\u001b[0m\u001b[0;34m)\u001b[0m\u001b[0;34m\u001b[0m\u001b[0m\n\u001b[1;32m     16\u001b[0m     \u001b[0mprint\u001b[0m\u001b[0;34m(\u001b[0m\u001b[0;34m\"Weights Shape\"\u001b[0m\u001b[0;34m,\u001b[0m\u001b[0mnp\u001b[0m\u001b[0;34m.\u001b[0m\u001b[0mshape\u001b[0m\u001b[0;34m(\u001b[0m\u001b[0mw\u001b[0m\u001b[0;34m)\u001b[0m\u001b[0;34m,\u001b[0m\u001b[0;34m\"Baisies shape\"\u001b[0m\u001b[0;34m,\u001b[0m\u001b[0mnp\u001b[0m\u001b[0;34m.\u001b[0m\u001b[0mshape\u001b[0m\u001b[0;34m(\u001b[0m\u001b[0mb\u001b[0m\u001b[0;34m)\u001b[0m\u001b[0;34m)\u001b[0m\u001b[0;34m\u001b[0m\u001b[0m\n\u001b[0;32m---> 17\u001b[0;31m     \u001b[0m_\u001b[0m\u001b[0;34m,\u001b[0m \u001b[0mparams\u001b[0m\u001b[0;34m,\u001b[0m\u001b[0m_\u001b[0m \u001b[0;34m=\u001b[0m \u001b[0moptimizer\u001b[0m\u001b[0;34m(\u001b[0m\u001b[0mw\u001b[0m\u001b[0;34m,\u001b[0m \u001b[0mb\u001b[0m\u001b[0;34m,\u001b[0m \u001b[0mtrain_X\u001b[0m\u001b[0;34m,\u001b[0m \u001b[0mtrain_Y\u001b[0m\u001b[0;34m,\u001b[0m \u001b[0mlearning_rate\u001b[0m\u001b[0;34m,\u001b[0m \u001b[0mepoch\u001b[0m\u001b[0;34m)\u001b[0m\u001b[0;34m\u001b[0m\u001b[0m\n\u001b[0m\u001b[1;32m     18\u001b[0m     \u001b[0mw\u001b[0m\u001b[0;34m,\u001b[0m\u001b[0mb\u001b[0m \u001b[0;34m=\u001b[0m \u001b[0mparams\u001b[0m\u001b[0;34m[\u001b[0m\u001b[0;34m\"w\"\u001b[0m\u001b[0;34m]\u001b[0m\u001b[0;34m,\u001b[0m \u001b[0mparams\u001b[0m\u001b[0;34m[\u001b[0m\u001b[0;34m\"b\"\u001b[0m\u001b[0;34m]\u001b[0m\u001b[0;34m\u001b[0m\u001b[0m\n\u001b[1;32m     19\u001b[0m     \u001b[0mprediction_train\u001b[0m \u001b[0;34m=\u001b[0m \u001b[0mpredictor\u001b[0m\u001b[0;34m(\u001b[0m\u001b[0mtrain_X\u001b[0m\u001b[0;34m,\u001b[0m\u001b[0mw\u001b[0m\u001b[0;34m,\u001b[0m\u001b[0mb\u001b[0m\u001b[0;34m)\u001b[0m\u001b[0;34m\u001b[0m\u001b[0m\n",
      "\u001b[0;32m<ipython-input-58-79824244da6e>\u001b[0m in \u001b[0;36moptimizer\u001b[0;34m(w, b, X, Y, learning_rate, num_iterations, print_results)\u001b[0m\n\u001b[1;32m     12\u001b[0m \u001b[0;31m#     print(\"X in optimizer\",np.shape(X),\"Y in optimizer\",np.shape(Y))\u001b[0m\u001b[0;34m\u001b[0m\u001b[0;34m\u001b[0m\u001b[0m\n\u001b[1;32m     13\u001b[0m     \u001b[0;32mfor\u001b[0m \u001b[0mi\u001b[0m \u001b[0;32min\u001b[0m \u001b[0mrange\u001b[0m\u001b[0;34m(\u001b[0m\u001b[0mnum_iterations\u001b[0m\u001b[0;34m)\u001b[0m\u001b[0;34m:\u001b[0m\u001b[0;34m\u001b[0m\u001b[0m\n\u001b[0;32m---> 14\u001b[0;31m         \u001b[0mgrads\u001b[0m\u001b[0;34m,\u001b[0m \u001b[0mcost\u001b[0m \u001b[0;34m=\u001b[0m \u001b[0mpropagate\u001b[0m\u001b[0;34m(\u001b[0m\u001b[0mX\u001b[0m\u001b[0;34m,\u001b[0m\u001b[0mY\u001b[0m\u001b[0;34m,\u001b[0m\u001b[0mw\u001b[0m\u001b[0;34m,\u001b[0m\u001b[0mb\u001b[0m\u001b[0;34m)\u001b[0m\u001b[0;34m\u001b[0m\u001b[0m\n\u001b[0m\u001b[1;32m     15\u001b[0m         \u001b[0mprint\u001b[0m\u001b[0;34m(\u001b[0m\u001b[0mcost\u001b[0m\u001b[0;34m)\u001b[0m\u001b[0;34m\u001b[0m\u001b[0m\n\u001b[1;32m     16\u001b[0m         \u001b[0mdw\u001b[0m \u001b[0;34m=\u001b[0m \u001b[0mgrads\u001b[0m\u001b[0;34m[\u001b[0m\u001b[0;34m\"dw\"\u001b[0m\u001b[0;34m]\u001b[0m\u001b[0;34m\u001b[0m\u001b[0m\n",
      "\u001b[0;32m<ipython-input-59-5458a751247d>\u001b[0m in \u001b[0;36mpropagate\u001b[0;34m(X, Y, w, b)\u001b[0m\n\u001b[1;32m     17\u001b[0m     \u001b[0mprint\u001b[0m\u001b[0;34m(\u001b[0m\u001b[0;34m\"z\"\u001b[0m\u001b[0;34m,\u001b[0m\u001b[0mnp\u001b[0m\u001b[0;34m.\u001b[0m\u001b[0mshape\u001b[0m\u001b[0;34m(\u001b[0m\u001b[0mz\u001b[0m\u001b[0;34m)\u001b[0m\u001b[0;34m)\u001b[0m\u001b[0;34m\u001b[0m\u001b[0m\n\u001b[1;32m     18\u001b[0m     \u001b[0ma\u001b[0m \u001b[0;34m=\u001b[0m \u001b[0msigmoid\u001b[0m\u001b[0;34m(\u001b[0m\u001b[0mz\u001b[0m\u001b[0;34m)\u001b[0m \u001b[0;31m#in begining should be 0\u001b[0m\u001b[0;34m\u001b[0m\u001b[0m\n\u001b[0;32m---> 19\u001b[0;31m     \u001b[0mloss\u001b[0m \u001b[0;34m=\u001b[0m \u001b[0mcrossEntropyLoss\u001b[0m\u001b[0;34m(\u001b[0m\u001b[0ma\u001b[0m\u001b[0;34m,\u001b[0m\u001b[0mY\u001b[0m\u001b[0;34m)\u001b[0m\u001b[0;34m\u001b[0m\u001b[0m\n\u001b[0m\u001b[1;32m     20\u001b[0m     \u001b[0;31m#loss = (-1/num_of_examples)*np.sum((1-Y)*np.log(1-a) + (Y *np.log(a))) #log likelyhood cost for logistic regression\u001b[0m\u001b[0;34m\u001b[0m\u001b[0;34m\u001b[0m\u001b[0m\n\u001b[1;32m     21\u001b[0m     \u001b[0mprint\u001b[0m\u001b[0;34m(\u001b[0m\u001b[0;34m\"loss\"\u001b[0m\u001b[0;34m,\u001b[0m\u001b[0mloss\u001b[0m\u001b[0;34m)\u001b[0m\u001b[0;34m\u001b[0m\u001b[0m\n",
      "\u001b[0;32m<ipython-input-55-a25605018ec8>\u001b[0m in \u001b[0;36mcrossEntropyLoss\u001b[0;34m(a, Y)\u001b[0m\n\u001b[1;32m      1\u001b[0m \u001b[0;32mdef\u001b[0m \u001b[0mcrossEntropyLoss\u001b[0m\u001b[0;34m(\u001b[0m\u001b[0ma\u001b[0m\u001b[0;34m,\u001b[0m\u001b[0mY\u001b[0m\u001b[0;34m)\u001b[0m\u001b[0;34m:\u001b[0m\u001b[0;34m\u001b[0m\u001b[0m\n\u001b[1;32m      2\u001b[0m     \u001b[0mprint\u001b[0m\u001b[0;34m(\u001b[0m\u001b[0mY\u001b[0m\u001b[0;34m.\u001b[0m\u001b[0mshape\u001b[0m\u001b[0;34m)\u001b[0m\u001b[0;34m\u001b[0m\u001b[0m\n\u001b[0;32m----> 3\u001b[0;31m     \u001b[0mm\u001b[0m \u001b[0;34m=\u001b[0m \u001b[0mY\u001b[0m\u001b[0;34m.\u001b[0m\u001b[0mshape\u001b[0m\u001b[0;34m[\u001b[0m\u001b[0;36m1\u001b[0m\u001b[0;34m]\u001b[0m \u001b[0;31m#len(Y) doesn't work, need 2nd dimesnion\u001b[0m\u001b[0;34m\u001b[0m\u001b[0m\n\u001b[0m\u001b[1;32m      4\u001b[0m \u001b[0;31m#     a = a.T\u001b[0m\u001b[0;34m\u001b[0m\u001b[0;34m\u001b[0m\u001b[0m\n\u001b[1;32m      5\u001b[0m     \u001b[0mloss\u001b[0m \u001b[0;34m=\u001b[0m \u001b[0;34m-\u001b[0m\u001b[0;34m(\u001b[0m\u001b[0;36m1\u001b[0m \u001b[0;34m/\u001b[0m \u001b[0mm\u001b[0m\u001b[0;34m)\u001b[0m \u001b[0;34m*\u001b[0m \u001b[0mnp\u001b[0m\u001b[0;34m.\u001b[0m\u001b[0msum\u001b[0m\u001b[0;34m(\u001b[0m\u001b[0mY\u001b[0m \u001b[0;34m*\u001b[0m \u001b[0mnp\u001b[0m\u001b[0;34m.\u001b[0m\u001b[0mlog\u001b[0m\u001b[0;34m(\u001b[0m\u001b[0ma\u001b[0m\u001b[0;34m)\u001b[0m \u001b[0;34m+\u001b[0m \u001b[0;34m(\u001b[0m\u001b[0;36m1\u001b[0m \u001b[0;34m-\u001b[0m \u001b[0mY\u001b[0m\u001b[0;34m)\u001b[0m \u001b[0;34m*\u001b[0m \u001b[0mnp\u001b[0m\u001b[0;34m.\u001b[0m\u001b[0mlog\u001b[0m\u001b[0;34m(\u001b[0m\u001b[0;36m1\u001b[0m \u001b[0;34m-\u001b[0m \u001b[0ma\u001b[0m\u001b[0;34m)\u001b[0m\u001b[0;34m)\u001b[0m\u001b[0;34m\u001b[0m\u001b[0m\n",
      "\u001b[0;31mIndexError\u001b[0m: tuple index out of range"
     ]
    }
   ],
   "source": [
    "train_X = standardized_train_examples\n",
    "train_Y = labels_train.T\n",
    "test_X = standardized_test_examples\n",
    "test_Y = labels_test.T\n",
    "learning_rate = .1\n",
    "epoch = 3\n",
    "print(train_X.shape,\"train_X\")\n",
    "print(train_Y.shape,\"train_Y\")\n",
    "print(test_X.shape,\"test_X\")\n",
    "print(test_Y.shape,\"test_Y\")\n",
    "logisticRegression(train_X,train_Y,test_X,test_Y,learning_rate,epoch)"
   ]
  },
  {
   "cell_type": "markdown",
   "metadata": {
    "collapsed": true
   },
   "source": [
    "Model flow:\n",
    "(1) logistic Regression\n",
    "    (2) optimizer\n",
    "        (3) proprogate \n",
    "    (4) predict"
   ]
  },
  {
   "cell_type": "code",
   "execution_count": null,
   "metadata": {
    "collapsed": true
   },
   "outputs": [],
   "source": []
  }
 ],
 "metadata": {
  "kernelspec": {
   "display_name": "Python 3",
   "language": "python",
   "name": "python3"
  },
  "language_info": {
   "codemirror_mode": {
    "name": "ipython",
    "version": 3
   },
   "file_extension": ".py",
   "mimetype": "text/x-python",
   "name": "python",
   "nbconvert_exporter": "python",
   "pygments_lexer": "ipython3",
   "version": "3.6.3"
  }
 },
 "nbformat": 4,
 "nbformat_minor": 2
}

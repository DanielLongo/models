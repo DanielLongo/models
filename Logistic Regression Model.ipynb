{
 "cells": [
  {
   "cell_type": "markdown",
   "metadata": {},
   "source": [
    "(1) Import Libraries and define constants"
   ]
  },
  {
   "cell_type": "code",
   "execution_count": 24,
   "metadata": {
    "collapsed": true
   },
   "outputs": [],
   "source": [
    "import numpy as np\n",
    "import scipy \n",
    "import os\n",
    "import matplotlib.pyplot as plot\n",
    "from scipy import ndimage\n",
    "import sys\n",
    "import math\n",
    "from PIL import Image"
   ]
  },
  {
   "cell_type": "code",
   "execution_count": 25,
   "metadata": {
    "collapsed": true
   },
   "outputs": [],
   "source": [
    "# Global Constants\n",
    "side_length = 450\n",
    "max_num_images = 100 #-1 for all images\n",
    "image_path = \"./Logistic_Regression_Data/\"\n",
    "test_ratio = .2\n",
    "epoch = 300\n",
    "learning_rate = .01"
   ]
  },
  {
   "cell_type": "markdown",
   "metadata": {},
   "source": [
    "(2) Create train and test examples:"
   ]
  },
  {
   "cell_type": "code",
   "execution_count": 26,
   "metadata": {
    "collapsed": true
   },
   "outputs": [],
   "source": [
    "def getImageArrays(path, side_length): #returns list of images arrays for a specified path\n",
    "    image_names = os.listdir(path)\n",
    "    image_names = image_names[:max_num_images]\n",
    "    examples = []\n",
    "    for image_name in image_names:\n",
    "        if image_name.split(\".\")[-1] != \"DS_Store\":\n",
    "            try:\n",
    "                cur_image_path = path + image_name\n",
    "                cur_image = np.array(ndimage.imread(cur_image_path,flatten=False))\n",
    "                cur_array_resized = scipy.misc.imresize(cur_image,size=(side_length,side_length))\n",
    "\n",
    "    #             img = Image.fromarray(cur_array_resized, 'RGB')\n",
    "    #             img.save('my.png')\n",
    "    #             img.show()\n",
    "                cur_array_flattened = cur_array_resized.reshape((side_length*side_length*3)).T\n",
    "                #print(\"new\", cur_array_resized.shape)\n",
    "                #cur_array = scipy.ndimage.imread(cur_image_path,flatten=False) #reads image as numpy array (lenght,height,3)\n",
    "                #cur_array_resized = scipy.misc.imresize(cur_array,size=(side_length,side_length,3)) #resizes images to a uniform shape\n",
    "                #print(\"old\", cur_array_resized.shape)\n",
    "                examples += [cur_array_flattened] \n",
    "            except ValueError:\n",
    "                print(\"Error in creating examples\",image_name)\n",
    "                \n",
    "    return examples"
   ]
  },
  {
   "cell_type": "code",
   "execution_count": 27,
   "metadata": {},
   "outputs": [
    {
     "name": "stdout",
     "output_type": "stream",
     "text": [
      "Error in creating examples notcow197.jpg\n",
      "Number of Examples: 197\n",
      "Number of Labels: 197\n"
     ]
    }
   ],
   "source": [
    "#create examples & labels\n",
    "cow_images_path = image_path + \"cows/\"\n",
    "notCow_image_path = image_path + \"notcows/\"\n",
    "\n",
    "examples_cow = getImageArrays(cow_images_path, side_length)\n",
    "labels_cow = np.ones(len(examples_cow))\n",
    "examples_notCow = getImageArrays(notCow_image_path, side_length)\n",
    "labels_notCow = np.zeros(len(examples_notCow))\n",
    "\n",
    "examples_cow = np.array(examples_cow)\n",
    "examples_notCow = np.array(examples_notCow)\n",
    "#assert(examples_cow.shape[1:] == (side_length,side_length,3)), \"examples_cow are invalid shape\"\n",
    "examples = np.concatenate((examples_cow,examples_notCow))\n",
    "labels = np.concatenate((labels_cow,labels_notCow))\n",
    "print(\"Number of Examples:\",len(examples))\n",
    "print(\"Number of Labels:\",len(labels))\n"
   ]
  },
  {
   "cell_type": "code",
   "execution_count": 28,
   "metadata": {
    "collapsed": true
   },
   "outputs": [],
   "source": [
    "#shuffle examples and labels\n",
    "shuffled_indexing = np.random.permutation(labels.shape[0])\n",
    "examples = examples[shuffled_indexing]\n",
    "labels = labels[shuffled_indexing]"
   ]
  },
  {
   "cell_type": "code",
   "execution_count": 29,
   "metadata": {},
   "outputs": [
    {
     "name": "stdout",
     "output_type": "stream",
     "text": [
      "Number of training examples:  (607500, 158)\n",
      "Number of test examples:  (607500, 39)\n",
      "(158,)\n"
     ]
    }
   ],
   "source": [
    "#seperate train and test examples\n",
    "number_examples_test = int(len(examples)*test_ratio)\n",
    "number_labels_test = int(len(labels)*test_ratio)\n",
    "\n",
    "examples_test = examples[:number_examples_test]\n",
    "examples_train = examples[number_examples_test:]\n",
    "labels_test = labels[:number_labels_test]\n",
    "labels_train = labels[number_labels_test:]\n",
    "print(\"Number of training examples: \", examples_train.T.shape)\n",
    "print(\"Number of test examples: \", examples_test.T.shape)\n",
    "print(labels_train.shape)"
   ]
  },
  {
   "cell_type": "code",
   "execution_count": 30,
   "metadata": {
    "collapsed": true
   },
   "outputs": [],
   "source": [
    "#reshape labels for future matrix operations\n",
    "labels_train = np.reshape(labels_train,(1,len(labels_train)))\n",
    "labels_test = np.reshape(labels_test,(1,len(labels_test)))"
   ]
  },
  {
   "cell_type": "code",
   "execution_count": 31,
   "metadata": {},
   "outputs": [
    {
     "name": "stdout",
     "output_type": "stream",
     "text": [
      "flattened examples (607500, 39) (607500, 158)\n"
     ]
    }
   ],
   "source": [
    "#flatten examples\n",
    "flattened_train_examples = examples_train.reshape(examples_train.shape[0], -1).T\n",
    "flattened_test_examples = examples_test.reshape(examples_test.shape[0], -1).T  \n",
    "print(\"flattened examples\",flattened_test_examples.shape,flattened_train_examples.shape)\n",
    "flattened_train_examples = examples_train.T\n",
    "flattened_test_examples = examples_test.T"
   ]
  },
  {
   "cell_type": "code",
   "execution_count": 32,
   "metadata": {},
   "outputs": [
    {
     "name": "stdout",
     "output_type": "stream",
     "text": [
      "standardized (607500, 39) (607500, 158)\n"
     ]
    }
   ],
   "source": [
    "# Standardize color values of the image (decrease computational cost durring cross entropy)\n",
    "standardized_train_examples = flattened_train_examples/255 #225 is the maximum rgb value/ This is done to decrease varaince in inputs thus more efficint\n",
    "standardized_test_examples = flattened_test_examples/255\n",
    "print(\"standardized\",standardized_test_examples.shape,standardized_train_examples.shape)"
   ]
  },
  {
   "cell_type": "code",
   "execution_count": 33,
   "metadata": {
    "collapsed": true
   },
   "outputs": [],
   "source": [
    "#image = np.array(ndimage.imread(\"../Desktop/chicken.jpeg\",flatten=False))\n",
    "#resizedImage = scipy.misc.imresize(image,size=(side_length,side_length)).reshape((1,side_length*side_length*3)).T"
   ]
  },
  {
   "cell_type": "markdown",
   "metadata": {},
   "source": [
    "(3) Defeine basic functions"
   ]
  },
  {
   "cell_type": "code",
   "execution_count": 34,
   "metadata": {
    "collapsed": true
   },
   "outputs": [],
   "source": [
    "def sigmoid(x):\n",
    "    output = 1.0/(1.0+np.exp(-x))\n",
    "    return output"
   ]
  },
  {
   "cell_type": "code",
   "execution_count": 35,
   "metadata": {
    "collapsed": true
   },
   "outputs": [],
   "source": [
    "def initialize_zeros(dimension): #dimension = len(flattened_examples)\n",
    "    zeroed_weights = np.zeros((dimension, 1)) \n",
    "    zeroed_baisies = 0. #baisies always start at 0 b/c they are developed as the model trains\n",
    "    assert(isinstance(zeroed_baisies, float) or isinstance(zeroed_baisies, int))\n",
    "    \n",
    "    return zeroed_weights, zeroed_baisies"
   ]
  },
  {
   "cell_type": "code",
   "execution_count": 36,
   "metadata": {
    "collapsed": true
   },
   "outputs": [],
   "source": [
    "def crossEntropyLoss(a,Y):\n",
    "    m = Y.shape[1] #len(Y) doesn't work, need 2nd dimesnion\n",
    "#     print(a.shape)\n",
    "    #print(\"BEFORE:\")\n",
    "    #print(a)\n",
    "    a[0][a[0]==1] = .999\n",
    "    a[0][a[0]==0] = .001\n",
    "#     a = [0.0001 for prediction in a[0] if prediction == 0]\n",
    "#     a = [0.9999 for prediction in a if prediction == 1]\n",
    "    #print(\"AFTER:\")\n",
    "    #print(a)\n",
    "    #a = np.reshape(a,(1,a.shape[1]))\n",
    "    #print(a.shape,\"changed\")\n",
    "    #a = 0.0001 if a == 0 else a\n",
    "    #a = 0.9999 if a == 1 else a\n",
    "    loss = -(1 / m) * np.sum(Y * np.log(a) + (1 - Y) * np.log(1 - a))\n",
    "    return loss"
   ]
  },
  {
   "cell_type": "markdown",
   "metadata": {
    "collapsed": true
   },
   "source": [
    "(4) Foward Pass"
   ]
  },
  {
   "cell_type": "code",
   "execution_count": 37,
   "metadata": {
    "collapsed": true
   },
   "outputs": [],
   "source": [
    "def propagate(X,Y,w,b):\n",
    "    # b = scalar\n",
    "    # w = (____, 1)\n",
    "    # X = (____, examples)\n",
    "    # Y = (1, examples)\n",
    "#     print(\"propagate shapes\")\n",
    "#     print(\"X\",np.shape(X))\n",
    "#     print(\"Y\",np.shape(Y))\n",
    "#     print(\"w\",np.shape(w))\n",
    "#     print(\"b\",np.shape(b))\n",
    "    \n",
    "    w_transposed = w.T\n",
    "    num_of_examples = np.shape(X)[1]\n",
    "    \n",
    "    dot_product = np.dot(w_transposed,X) #dot product of X and w be careful to use correct order\n",
    "    z = dot_product + b\n",
    "    a = sigmoid(z) #in begining should be 0\n",
    "    loss = crossEntropyLoss(a,Y)\n",
    "    # dz = a-y \n",
    "    #z = wx + b \n",
    "    #1/m becuase loss uses 1/m \n",
    "    dw = (1/num_of_examples) * np.dot(X,(a-Y).T) \n",
    "    db = (1/num_of_examples) * np.sum(a-Y) #np.sum collapes input\n",
    "    loss = np.squeeze(loss)\n",
    "    grads = {\"dw\":dw,\"db\":db}\n",
    "    return grads,loss    \n"
   ]
  },
  {
   "cell_type": "code",
   "execution_count": 38,
   "metadata": {},
   "outputs": [
    {
     "name": "stdout",
     "output_type": "stream",
     "text": [
      "dw = [[ 0.99845601]\n",
      " [ 2.39507239]]\n",
      "db = 0.00145557813678\n",
      "cost = 5.80154531939\n"
     ]
    }
   ],
   "source": [
    "w, b, X, Y = np.array([[1.],[2.]]), 2., np.array([[1.,2.,-1.],[3.,4.,-3.2]]), np.array([[1,0,1]])\n",
    "grads, cost = propagate(X, Y,w,b)\n",
    "print (\"dw = \" + str(grads[\"dw\"]))\n",
    "print (\"db = \" + str(grads[\"db\"]))\n",
    "print (\"cost = \" + str(cost))"
   ]
  },
  {
   "cell_type": "markdown",
   "metadata": {},
   "source": [
    "(5) Optimize"
   ]
  },
  {
   "cell_type": "code",
   "execution_count": 39,
   "metadata": {
    "collapsed": true
   },
   "outputs": [],
   "source": [
    "def optimizer(w, b, X, Y, learning_rate, epoch, print_results=True):\n",
    "    # b = scalar\n",
    "    # w = (____, 1)\n",
    "    # X = (____, examples)\n",
    "    # Y = (1, examples)\n",
    "#     print(\"optimizer shapes\")\n",
    "#     print(\"X\",np.shape(X))\n",
    "#     print(\"Y\",np.shape(Y))\n",
    "#     print(\"w\",np.shape(w))\n",
    "#     print(\"b\",np.shape(b))\n",
    "    sample_costs = []\n",
    "    costs = []\n",
    "    for i in range(epoch):\n",
    "        grads, cost = propagate(X,Y,w,b)\n",
    "        dw = grads[\"dw\"]\n",
    "        db = grads[\"db\"]\n",
    "        w = w - (learning_rate * dw)\n",
    "        b = b - (learning_rate * db)\n",
    "        costs += [cost]\n",
    "        if print_results:\n",
    "            optimizerPrinter(costs,epoch)\n",
    "        if (i % 10 == 0):\n",
    "            sample_costs += [cost]\n",
    "#             print(\"cost\",cost,(i+1)*100/epoch,\"%\")\n",
    "            \n",
    "    grads = {\"dw\":dw,\"db\":db}\n",
    "    params = {\"w\":w,\"b\":b}\n",
    "    return grads,params,costs"
   ]
  },
  {
   "cell_type": "code",
   "execution_count": 40,
   "metadata": {
    "collapsed": true
   },
   "outputs": [],
   "source": [
    "def optimizerPrinter(costs,epoch):\n",
    "    starting_costs = costs[:int(epoch * .09)] #gets the first 9 percent of costs, used as a baseline\n",
    "    recent_costs = costs[-10:] #get the most recent 10 costs\n",
    "    avg_recent_costs = sum(recent_costs)/len(recent_costs)\n",
    "    avg_starting_costs = sum(starting_costs)/len(starting_costs)\n",
    "    percent = ((len(costs))/epoch) * 100\n",
    "#     print(\"cost len:\",costs,\"percent:\", percent,\"remainder:\",percent % (epoch/10))\n",
    "    if (len(costs) % int(epoch/(10)) == 0.0) and (len(costs) != 1):\n",
    "        percent = math.ceil(percent * .1) * 10\n",
    "    cur_cost = costs[-1]\n",
    "    if cur_cost > 999: #only display three place values\n",
    "        cur_cost = 999\n",
    "    if avg_starting_costs > 999:\n",
    "        avg_starting_costs = 999\n",
    "    if avg_recent_costs > 999:\n",
    "        avg_recent_costs = 999\n",
    "    sys.stdout.write('\\r')\n",
    "    sys.stdout.write(\n",
    "        str(int(percent)).zfill(2) + \"% \" +\n",
    "        \"Cur Cost: \" + str(int(cur_cost)).zfill(3) +\n",
    "        \" Recent Costs: \" + str(int(avg_recent_costs)).zfill(3) + \n",
    "        \" Starting Costs: \" + str(int(avg_starting_costs)).zfill(3))\n",
    "    sys.stdout.flush()\n",
    "    \n",
    "    if (len(costs) % int(epoch/(10)) == 0.0) and (len(costs) != 1):\n",
    "        print(\"\")\n",
    "    "
   ]
  },
  {
   "cell_type": "code",
   "execution_count": 41,
   "metadata": {
    "collapsed": true
   },
   "outputs": [],
   "source": [
    "# w, b, X, Y = np.array([[1.],[2.]]), 2., np.array([[1.,2.,-1.],[3.,4.,-3.2]]), np.array([[1,0,1]])\n",
    "# grads,params,cost = optimizer(w,b,X, Y, .009, 143, print_results=True)\n",
    "# print (\"w = \" + str(params[\"w\"]))\n",
    "# print (\"b = \" + str(params[\"b\"]))\n",
    "# print (\"dw = \" + str(grads[\"dw\"]))\n",
    "# print (\"db = \" + str(grads[\"db\"]))"
   ]
  },
  {
   "cell_type": "markdown",
   "metadata": {},
   "source": [
    "(6) Validate"
   ]
  },
  {
   "cell_type": "code",
   "execution_count": 42,
   "metadata": {
    "collapsed": true
   },
   "outputs": [],
   "source": [
    "def predictor(X,w,b):\n",
    "    # b = scalar\n",
    "    # w = (____, 1)\n",
    "    # X = (____, examples)\n",
    "#     print(\"predictor shapes\")\n",
    "#     print(\"X\",np.shape(X))\n",
    "#     print(\"w\",np.shape(w))\n",
    "#     print(\"b\",np.shape(b))\n",
    "    w_transposed = w.T\n",
    "    prediction = (np.dot(w_transposed,X)) + b\n",
    "    prediction = sigmoid(prediction)\n",
    "    prediction *= 2.0 # so prediction is either 1 or -1\n",
    "    prediction = np.floor(prediction)\n",
    "    return prediction"
   ]
  },
  {
   "cell_type": "code",
   "execution_count": 43,
   "metadata": {},
   "outputs": [
    {
     "name": "stdout",
     "output_type": "stream",
     "text": [
      "[[ 1.  1.  0.]]\n"
     ]
    }
   ],
   "source": [
    "w = np.array([[0.1124], [0.231]])\n",
    "b = -.3\n",
    "X = np.array([[1,-1.1,-3.2],[1.2,2,.1]])\n",
    "print(predictor(X,w,b))"
   ]
  },
  {
   "cell_type": "markdown",
   "metadata": {},
   "source": [
    "(7) Driver"
   ]
  },
  {
   "cell_type": "code",
   "execution_count": 44,
   "metadata": {
    "collapsed": true
   },
   "outputs": [],
   "source": [
    "def logisticRegression(train_X,train_Y,test_X,test_Y,learning_rate,epoch):\n",
    "    # train_x = (image_width * image_width * 3, training_examples)\n",
    "    # train_y = (1, train_examples)\n",
    "    # test_x = (____, test_examples)\n",
    "    # test_y = (1, test_examples)\n",
    "    print(\"Logistic Regression Started :0\")\n",
    "    \n",
    "    assert(train_X.shape[1] == train_Y.shape[1]), \"train exampes dimensions invalid: Train X \" + train_X.shape + \" Train Y \" + train_Y.shape\n",
    "#     print(\"logisticShapes\")\n",
    "#     print(\"train x\",train_X.shape)\n",
    "#     print(\"train y\",train_Y.shape)\n",
    "#     print(\"test X\",test_X.shape)\n",
    "#     print(\"test Y\",test_Y.shape)\n",
    "    #Inialize w/b\n",
    "    w,b = initialize_zeros(side_length*side_length*3)\n",
    "    \n",
    "    #Train\n",
    "    grads, params, costs = optimizer(w, b, train_X, train_Y, learning_rate, epoch)\n",
    "    w, b = params[\"w\"], params[\"b\"]\n",
    "\n",
    "    #Eval\n",
    "    prediction_train = predictor(train_X,w,b)\n",
    "    accuracy_train = np.mean(np.abs(prediction_train - train_Y))\n",
    "    print(accuracy_train, \"train accuracy\")\n",
    "    accuracy_output = \"train accuracy {} %\" .format(100 - (accuracy_train * 100))\n",
    "    print(accuracy_output)\n",
    "    \n",
    "    #Test\n",
    "    prediction_test = predictor(test_X,w,b)\n",
    "    accuracy_test = np.mean(np.abs(prediction_test - test_Y))\n",
    "    print(accuracy_test, \"test accuarcy\")\n",
    "    accuracy_output = \"Actural accuarcy {} %\" .format(100 - (accuracy_test * 100))\n",
    "    print(accuracy_output)\n",
    "    \n",
    "    d = {\n",
    "        \"costs\": costs,\n",
    "        \"Y_prediction_test\" : prediction_test,\n",
    "        \"X_prediction_train\" : prediction_train,\n",
    "        \"w\" : w,\n",
    "        \"b\" : b,\n",
    "        \"learning rate\" : learning_rate,\n",
    "        \"epoch\" : epoch\n",
    "    }\n",
    "    \n",
    "    return d\n",
    "        "
   ]
  },
  {
   "cell_type": "code",
   "execution_count": 45,
   "metadata": {
    "scrolled": true
   },
   "outputs": [
    {
     "name": "stdout",
     "output_type": "stream",
     "text": [
      "(607500, 158) train_X\n",
      "(1, 158) train_Y\n",
      "(607500, 39) test_X\n",
      "(1, 39) test_Y\n",
      "Logistic Regression Started :0\n",
      "02% Cur Cost: 129 Recent Costs: 038 Starting Costs: 038"
     ]
    },
    {
     "name": "stderr",
     "output_type": "stream",
     "text": [
      "/anaconda3/lib/python3.6/site-packages/ipykernel_launcher.py:2: RuntimeWarning: overflow encountered in exp\n",
      "  \n"
     ]
    },
    {
     "name": "stdout",
     "output_type": "stream",
     "text": [
      "10% Cur Cost: 115 Recent Costs: 069 Starting Costs: 060\n",
      "20% Cur Cost: 064 Recent Costs: 027 Starting Costs: 060\n",
      "30% Cur Cost: 006 Recent Costs: 008 Starting Costs: 060\n",
      "40% Cur Cost: 001 Recent Costs: 001 Starting Costs: 060\n",
      "50% Cur Cost: 001 Recent Costs: 008 Starting Costs: 060\n",
      "60% Cur Cost: 000 Recent Costs: 000 Starting Costs: 060\n",
      "70% Cur Cost: 000 Recent Costs: 000 Starting Costs: 060\n",
      "80% Cur Cost: 000 Recent Costs: 000 Starting Costs: 060\n",
      "90% Cur Cost: 000 Recent Costs: 000 Starting Costs: 060\n",
      "100% Cur Cost: 000 Recent Costs: 000 Starting Costs: 060\n",
      "0.386075949367 train accuracy\n",
      "train accuracy 61.392405063291136 %\n",
      "0.692307692308 test accuarcy\n",
      "Actural accuarcy 30.769230769230774 %\n",
      "Complete :)\n"
     ]
    }
   ],
   "source": [
    "train_X = standardized_train_examples\n",
    "train_Y = labels_train\n",
    "test_X = standardized_test_examples\n",
    "test_Y = labels_test\n",
    "\n",
    "# print(test_X.shape)\n",
    "# print(test_X[0])\n",
    "# print(test_X[0].shape)\n",
    "\n",
    "# print(\"start\")\n",
    "print(train_X.shape,\"train_X\")\n",
    "print(train_Y.shape,\"train_Y\")\n",
    "print(test_X.shape,\"test_X\")\n",
    "print(test_Y.shape,\"test_Y\")\n",
    "\n",
    "d = logisticRegression(train_X,train_Y,test_X,test_Y,learning_rate,epoch)\n",
    "print(\"Complete :)\") "
   ]
  },
  {
   "cell_type": "code",
   "execution_count": null,
   "metadata": {
    "collapsed": true
   },
   "outputs": [],
   "source": []
  }
 ],
 "metadata": {
  "kernelspec": {
   "display_name": "Python 3",
   "language": "python",
   "name": "python3"
  },
  "language_info": {
   "codemirror_mode": {
    "name": "ipython",
    "version": 3
   },
   "file_extension": ".py",
   "mimetype": "text/x-python",
   "name": "python",
   "nbconvert_exporter": "python",
   "pygments_lexer": "ipython3",
   "version": "3.6.3"
  }
 },
 "nbformat": 4,
 "nbformat_minor": 2
}

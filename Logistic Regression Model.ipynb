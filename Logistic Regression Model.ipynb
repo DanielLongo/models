{
 "cells": [
  {
   "cell_type": "markdown",
   "metadata": {},
   "source": [
    "(1) Import Libraries and define constants"
   ]
  },
  {
   "cell_type": "code",
   "execution_count": 2,
   "metadata": {
    "collapsed": true
   },
   "outputs": [],
   "source": [
    "import numpy as np\n",
    "import scipy \n",
    "import os\n",
    "import matplotlib.pyplot as plot\n",
    "from scipy import ndimage"
   ]
  },
  {
   "cell_type": "code",
   "execution_count": 79,
   "metadata": {
    "collapsed": true
   },
   "outputs": [],
   "source": [
    "# Global Constants\n",
    "side_length = 650\n",
    "image_path = \"./Logistic_Regression_Data/\"\n",
    "test_ratio = .2\n",
    "epoch = 1000\n",
    "learning_rate = .005"
   ]
  },
  {
   "cell_type": "markdown",
   "metadata": {},
   "source": [
    "(2) Create train and test examples:"
   ]
  },
  {
   "cell_type": "code",
   "execution_count": 4,
   "metadata": {
    "collapsed": true
   },
   "outputs": [],
   "source": [
    "def getImageArrays(path, side_length): #returns list of images arrays for a specified path\n",
    "    image_names = os.listdir(path)\n",
    "    examples = []\n",
    "    for image_name in image_names:\n",
    "        if image_name.split(\".\")[-1] != \"DS_Store\":\n",
    "            cur_image_path = path + image_name\n",
    "            cur_array = scipy.ndimage.imread(cur_image_path,flatten=False) #reads image as numpy array (lenght,height,3)\n",
    "            cur_array_resized = scipy.misc.imresize(cur_array,size=(side_length,side_length,3)) #resizes images to a uniform shape\n",
    "            examples += [cur_array_resized] \n",
    "    return examples"
   ]
  },
  {
   "cell_type": "code",
   "execution_count": 5,
   "metadata": {
    "collapsed": true
   },
   "outputs": [],
   "source": [
    "#create examples & labels\n",
    "cow_images_path = image_path + \"cows/\"\n",
    "notCow_image_path = image_path + \"notcows/\"\n",
    "\n",
    "examples_cow = getImageArrays(cow_images_path, side_length)\n",
    "labels_cow = np.ones(len(examples_cow))\n",
    "examples_notCow = getImageArrays(cow_images_path, side_length)\n",
    "labels_notCow = np.zeros(len(examples_notCow))\n",
    "\n",
    "examples_cow = np.array(examples_cow)\n",
    "examples_notCow = np.array(examples_notCow)\n",
    "\n",
    "assert(examples_cow.shape[1:] == (side_length,side_length,3)), \"examples_cow are invalid shape\"\n",
    "examples = np.concatenate((examples_cow,examples_notCow))\n",
    "labels = np.concatenate((labels_cow,labels_notCow))"
   ]
  },
  {
   "cell_type": "code",
   "execution_count": 6,
   "metadata": {
    "collapsed": true
   },
   "outputs": [],
   "source": [
    "#shuffle examples and labels\n",
    "shuffled_indexing = np.random.permutation(labels.shape[0])\n",
    "examples = examples[shuffled_indexing]\n",
    "labels = labels[shuffled_indexing]"
   ]
  },
  {
   "cell_type": "code",
   "execution_count": 32,
   "metadata": {},
   "outputs": [
    {
     "name": "stdout",
     "output_type": "stream",
     "text": [
      "Number of training examples:  320\n",
      "Number of test examples:  80\n"
     ]
    }
   ],
   "source": [
    "#seperate train and test examples\n",
    "number_examples_test = int(len(examples)*test_ratio)\n",
    "number_labels_test = int(len(labels)*test_ratio)\n",
    "\n",
    "examples_test = examples[:number_examples_test]\n",
    "examples_train = examples[number_examples_test:]\n",
    "labels_test = labels[:number_labels_test]\n",
    "labels_train = labels[number_labels_test:]\n",
    "print(\"Number of training examples: \", examples_train.shape[0])\n",
    "print(\"Number of test examples: \", examples_test.shape[0])"
   ]
  },
  {
   "cell_type": "code",
   "execution_count": 33,
   "metadata": {},
   "outputs": [
    {
     "name": "stdout",
     "output_type": "stream",
     "text": [
      "labels_train (1, 320)\n",
      "labels_test (1, 80)\n"
     ]
    }
   ],
   "source": [
    "#reshape labels for future matrix operations\n",
    "labels_train = np.reshape(labels_train,(1,len(labels_train)))\n",
    "labels_test = np.reshape(labels_test,(1,len(labels_test)))\n",
    "print(\"labels_train\",labels_train.shape)\n",
    "print(\"labels_test\",labels_test.shape)"
   ]
  },
  {
   "cell_type": "code",
   "execution_count": 34,
   "metadata": {},
   "outputs": [
    {
     "name": "stdout",
     "output_type": "stream",
     "text": [
      "flattened examples (1267500, 80) (1267500, 320)\n"
     ]
    }
   ],
   "source": [
    "#flatten examples\n",
    "flattened_train_examples = examples_train.reshape(examples_train.shape[0], -1).T\n",
    "flattened_test_examples = examples_test.reshape(examples_test.shape[0], -1).T  \n",
    "print(\"flattened examples\",flattened_test_examples.shape,flattened_train_examples.shape)"
   ]
  },
  {
   "cell_type": "code",
   "execution_count": 35,
   "metadata": {},
   "outputs": [
    {
     "name": "stdout",
     "output_type": "stream",
     "text": [
      "standardized (1267500, 80) (1267500, 320)\n"
     ]
    }
   ],
   "source": [
    "# Standardize color values of the image (decrease computational cost durring cross entropy)\n",
    "standardized_train_examples = flattened_train_examples/255 #225 is the maximum rgb value/ This is done to decrease varaince in inputs thus more efficint\n",
    "standardized_test_examples = flattened_test_examples/255\n",
    "print(\"standardized\",standardized_test_examples.shape,standardized_train_examples.shape)"
   ]
  },
  {
   "cell_type": "markdown",
   "metadata": {},
   "source": [
    "(3) Defeine basic functions"
   ]
  },
  {
   "cell_type": "code",
   "execution_count": 16,
   "metadata": {
    "collapsed": true
   },
   "outputs": [],
   "source": [
    "def sigmoid(x):\n",
    "    output = 1.0/(1.0+np.exp(-x))\n",
    "    return output"
   ]
  },
  {
   "cell_type": "code",
   "execution_count": 17,
   "metadata": {
    "collapsed": true
   },
   "outputs": [],
   "source": [
    "def initialize_zeros(dimension): #dimension = len(flattened_examples)\n",
    "    zeroed_weights = np.zeros((dimension, 1)) \n",
    "    zeroed_baisies = 0. #baisies always start at 0 b/c they are developed as the model trains\n",
    "    assert(isinstance(zeroed_baisies, float) or isinstance(zeroed_baisies, int))\n",
    "    \n",
    "    return zeroed_weights, zeroed_baisies"
   ]
  },
  {
   "cell_type": "code",
   "execution_count": 77,
   "metadata": {},
   "outputs": [],
   "source": [
    "def crossEntropyLoss(a,Y):\n",
    "    m = Y.shape[1] #len(Y) doesn't work, need 2nd dimesnion\n",
    "#     print(a.shape)\n",
    "    #print(\"BEFORE:\")\n",
    "    #print(a)\n",
    "    a[0][a[0]==1] = .999\n",
    "    a[0][a[0]==0] = .001\n",
    "#     a = [0.0001 for prediction in a[0] if prediction == 0]\n",
    "#     a = [0.9999 for prediction in a if prediction == 1]\n",
    "    #print(\"AFTER:\")\n",
    "    #print(a)\n",
    "    #a = np.reshape(a,(1,a.shape[1]))\n",
    "    #print(a.shape,\"changed\")\n",
    "    #a = 0.0001 if a == 0 else a\n",
    "    #a = 0.9999 if a == 1 else a\n",
    "    loss = -(1 / m) * np.sum(Y * np.log(a) + (1 - Y) * np.log(1 - a))\n",
    "    return loss"
   ]
  },
  {
   "cell_type": "markdown",
   "metadata": {
    "collapsed": true
   },
   "source": [
    "(4) Foward Pass"
   ]
  },
  {
   "cell_type": "code",
   "execution_count": 19,
   "metadata": {
    "collapsed": true
   },
   "outputs": [],
   "source": [
    "def propagate(X,Y,w,b):\n",
    "    # b = scalar\n",
    "    # w = (____, 1)\n",
    "    # X = (____, examples)\n",
    "    # Y = (1, examples)\n",
    "#     print(\"propagate shapes\")\n",
    "#     print(\"X\",np.shape(X))\n",
    "#     print(\"Y\",np.shape(Y))\n",
    "#     print(\"w\",np.shape(w))\n",
    "#     print(\"b\",np.shape(b))\n",
    "    \n",
    "    w_transposed = w.T\n",
    "    num_of_examples = np.shape(X)[1]\n",
    "    \n",
    "    dot_product = np.dot(w_transposed,X) #dot product of X and w be careful to use correct order\n",
    "    z = dot_product + b\n",
    "    a = sigmoid(z) #in begining should be 0\n",
    "    loss = crossEntropyLoss(a,Y)\n",
    "    dw = (1/num_of_examples) * np.dot(X,(a-Y).T) #?\n",
    "    db = (1/num_of_examples) * np.sum(a-Y) #np.sum collapes input\n",
    "    loss = np.squeeze(loss)\n",
    "    grads = {\"dw\":dw,\"db\":db}\n",
    "    return grads,loss    \n"
   ]
  },
  {
   "cell_type": "code",
   "execution_count": 36,
   "metadata": {},
   "outputs": [
    {
     "name": "stdout",
     "output_type": "stream",
     "text": [
      "dw = [[ 0.99845601]\n",
      " [ 2.39507239]]\n",
      "db = 0.00145557813678\n",
      "cost = 5.80154531939\n"
     ]
    }
   ],
   "source": [
    "w, b, X, Y = np.array([[1.],[2.]]), 2., np.array([[1.,2.,-1.],[3.,4.,-3.2]]), np.array([[1,0,1]])\n",
    "grads, cost = propagate(X, Y,w,b)\n",
    "print (\"dw = \" + str(grads[\"dw\"]))\n",
    "print (\"db = \" + str(grads[\"db\"]))\n",
    "print (\"cost = \" + str(cost))"
   ]
  },
  {
   "cell_type": "markdown",
   "metadata": {},
   "source": [
    "(5) Optimize"
   ]
  },
  {
   "cell_type": "code",
   "execution_count": 81,
   "metadata": {
    "collapsed": true
   },
   "outputs": [],
   "source": [
    "def optimizer(w, b, X, Y, learning_rate, epoch, print_results=True):\n",
    "    # b = scalar\n",
    "    # w = (____, 1)\n",
    "    # X = (____, examples)\n",
    "    # Y = (1, examples)\n",
    "#     print(\"optimizer shapes\")\n",
    "#     print(\"X\",np.shape(X))\n",
    "#     print(\"Y\",np.shape(Y))\n",
    "#     print(\"w\",np.shape(w))\n",
    "#     print(\"b\",np.shape(b))\n",
    "    costs = []\n",
    "    for i in range(epoch):\n",
    "        grads, cost = propagate(X,Y,w,b)\n",
    "        dw = grads[\"dw\"]\n",
    "        db = grads[\"db\"]\n",
    "        w = w - (learning_rate * dw)\n",
    "        b = b - (learning_rate * db)\n",
    "        if (i % 100 == 0) and (print_results == True):\n",
    "            costs += [cost]\n",
    "            print(\"cost\",cost,(i+1)*100/epoch,\"%\")\n",
    "            \n",
    "    if print_results == True:\n",
    "        print(\"costs\" , costs )\n",
    "    grads = {\"dw\":dw,\"db\":db}\n",
    "    params = {\"w\":w,\"b\":b}\n",
    "    return grads,params,costs"
   ]
  },
  {
   "cell_type": "code",
   "execution_count": 39,
   "metadata": {},
   "outputs": [
    {
     "name": "stdout",
     "output_type": "stream",
     "text": [
      "w = [[ 0.19033591]\n",
      " [ 0.12259159]]\n",
      "b = 1.92535983008\n",
      "dw = [[ 0.67752042]\n",
      " [ 1.41625495]]\n",
      "db = 0.219194504541\n"
     ]
    }
   ],
   "source": [
    "w, b, X, Y = np.array([[1.],[2.]]), 2., np.array([[1.,2.,-1.],[3.,4.,-3.2]]), np.array([[1,0,1]])\n",
    "grads,params,cost = optimizer(w,b,X, Y, .009, 100, print_results=False)\n",
    "print (\"w = \" + str(params[\"w\"]))\n",
    "print (\"b = \" + str(params[\"b\"]))\n",
    "print (\"dw = \" + str(grads[\"dw\"]))\n",
    "print (\"db = \" + str(grads[\"db\"]))"
   ]
  },
  {
   "cell_type": "markdown",
   "metadata": {},
   "source": [
    "(6) Validate"
   ]
  },
  {
   "cell_type": "code",
   "execution_count": 41,
   "metadata": {
    "collapsed": true
   },
   "outputs": [],
   "source": [
    "def predictor(X,w,b):\n",
    "    # b = scalar\n",
    "    # w = (____, 1)\n",
    "    # X = (____, examples)\n",
    "#     print(\"predictor shapes\")\n",
    "#     print(\"X\",np.shape(X))\n",
    "#     print(\"w\",np.shape(w))\n",
    "#     print(\"b\",np.shape(b))\n",
    "    w_transposed = w.T\n",
    "    prediction = (np.dot(w_transposed,X)) + b\n",
    "    prediction = sigmoid(prediction)\n",
    "    prediction *= 2.0 # so prediction is either 1 or -1\n",
    "    prediction = np.floor(prediction)\n",
    "    return prediction"
   ]
  },
  {
   "cell_type": "code",
   "execution_count": 42,
   "metadata": {},
   "outputs": [
    {
     "name": "stdout",
     "output_type": "stream",
     "text": [
      "[[ 1.  1.  0.]]\n"
     ]
    }
   ],
   "source": [
    "w = np.array([[0.1124], [0.231]])\n",
    "b = -.3\n",
    "X = np.array([[1,-1.1,-3.2],[1.2,2,.1]])\n",
    "print(predictor(X,w,b))"
   ]
  },
  {
   "cell_type": "markdown",
   "metadata": {},
   "source": [
    "(7) Driver"
   ]
  },
  {
   "cell_type": "code",
   "execution_count": 44,
   "metadata": {
    "collapsed": true
   },
   "outputs": [],
   "source": [
    "def logisticRegression(train_X,train_Y,test_X,test_Y,learning_rate,epoch):\n",
    "    # train_x = (image_width * image_width * 3, training_examples)\n",
    "    # train_y = (1, train_examples)\n",
    "    # test_x = (____, test_examples)\n",
    "    # test_y = (1, test_examples)\n",
    "    \n",
    "    assert(train_X.shape[1] == train_Y.shape[1]), \"train exampes dimensions invalid\"\n",
    "#     print(\"logisticShapes\")\n",
    "#     print(\"train x\",train_X.shape)\n",
    "#     print(\"train y\",train_Y.shape)\n",
    "#     print(\"test X\",test_X.shape)\n",
    "#     print(\"test Y\",test_Y.shape)\n",
    "    #Inialize w/b\n",
    "    w,b = initialize_zeros(side_length*side_length*3)\n",
    "    \n",
    "    #Train\n",
    "    grads, params, costs = optimizer(w, b, train_X, train_Y, learning_rate, epoch)\n",
    "    w, b = params[\"w\"], params[\"b\"]\n",
    "    print(\"Training finsihed\")\n",
    "\n",
    "    #Eval\n",
    "    prediction_train = predictor(train_X,w,b)\n",
    "    accuracy_train = np.mean(np.abs(prediction_train - train_Y))\n",
    "    accuracy_output = \"train accuracy {} %\" .format(100 - accuracy_train * 100)\n",
    "    print(accuracy_output)\n",
    "    \n",
    "    #Test\n",
    "    prediction_test = predictor(test_X,w,b)\n",
    "    accuracy_test = np.mean(np.abs(prediction_test - test_Y))\n",
    "    accuracy_output = \"Actural accuarcy {} %\" .format(100 - accuracy_test * 100)\n",
    "    print(accuracy_output)\n",
    "    \n",
    "    d = {\n",
    "        \"costs\": costs,\n",
    "        \"Y_prediction_test\" : prediction_test,\n",
    "        \"X_prediction_train\" : prediction_train,\n",
    "        \"w\" : w,\n",
    "        \"b\" : b,\n",
    "        \"learning rate\" : learning_rate,\n",
    "        \"epoch\" : epoch\n",
    "    }\n",
    "    \n",
    "    return d\n",
    "        "
   ]
  },
  {
   "cell_type": "code",
   "execution_count": 82,
   "metadata": {
    "scrolled": true
   },
   "outputs": [
    {
     "name": "stdout",
     "output_type": "stream",
     "text": [
      "cost 0.69314718056 0.1 %\n"
     ]
    },
    {
     "name": "stderr",
     "output_type": "stream",
     "text": [
      "/anaconda3/lib/python3.6/site-packages/ipykernel_launcher.py:2: RuntimeWarning: overflow encountered in exp\n",
      "  \n"
     ]
    },
    {
     "name": "stdout",
     "output_type": "stream",
     "text": [
      "cost 75.1541871903 10.1 %\n",
      "cost 100.23671073 20.1 %\n",
      "cost 90.7615053017 30.1 %\n",
      "cost 93.795629712 40.1 %\n",
      "cost 96.0179993611 50.1 %\n",
      "cost 96.0296414915 60.1 %\n",
      "cost 93.5860193042 70.1 %\n",
      "cost 94.2518280708 80.1 %\n",
      "cost 95.5111859127 90.1 %\n",
      "costs [0.6931471805599454, 75.154187190324834, 100.23671073011566, 90.761505301682249, 93.795629711981206, 96.017999361092166, 96.02964149147472, 93.586019304239329, 94.251828070770216, 95.511185912724372]\n",
      "Training finsihed\n",
      "train accuracy 54.6875 %\n",
      "Actural accuarcy 18.75 %\n"
     ]
    },
    {
     "data": {
      "text/plain": [
       "{'X_prediction_train': array([[ 0.,  0.,  0.,  0.,  0.,  0.,  0.,  0.,  0.,  0.,  0.,  0.,  0.,\n",
       "          0.,  2.,  1.,  0.,  1.,  0.,  0.,  0.,  0.,  0.,  2.,  0.,  0.,\n",
       "          1.,  0.,  0.,  0.,  0.,  0.,  0.,  0.,  0.,  0.,  0.,  0.,  0.,\n",
       "          0.,  0.,  0.,  0.,  0.,  0.,  0.,  0.,  0.,  0.,  0.,  0.,  1.,\n",
       "          0.,  0.,  0.,  0.,  0.,  0.,  0.,  0.,  0.,  0.,  0.,  0.,  0.,\n",
       "          0.,  0.,  1.,  0.,  0.,  0.,  0.,  0.,  0.,  0.,  0.,  0.,  0.,\n",
       "          2.,  0.,  0.,  0.,  0.,  0.,  0.,  0.,  0.,  0.,  0.,  0.,  0.,\n",
       "          0.,  0.,  0.,  0.,  0.,  0.,  0.,  0.,  0.,  0.,  0.,  0.,  0.,\n",
       "          0.,  0.,  0.,  0.,  0.,  0.,  0.,  0.,  1.,  0.,  1.,  0.,  0.,\n",
       "          0.,  0.,  0.,  0.,  0.,  0.,  0.,  0.,  0.,  0.,  0.,  0.,  0.,\n",
       "          0.,  0.,  0.,  0.,  0.,  0.,  0.,  1.,  0.,  0.,  0.,  0.,  0.,\n",
       "          0.,  0.,  0.,  1.,  0.,  0.,  0.,  0.,  0.,  0.,  1.,  0.,  0.,\n",
       "          0.,  0.,  0.,  0.,  0.,  0.,  0.,  0.,  0.,  0.,  0.,  0.,  0.,\n",
       "          0.,  0.,  0.,  0.,  0.,  0.,  0.,  0.,  0.,  0.,  0.,  0.,  0.,\n",
       "          0.,  0.,  0.,  0.,  0.,  0.,  0.,  0.,  0.,  0.,  0.,  0.,  0.,\n",
       "          0.,  0.,  0.,  0.,  0.,  0.,  0.,  0.,  0.,  0.,  0.,  0.,  0.,\n",
       "          0.,  0.,  0.,  0.,  1.,  0.,  0.,  0.,  0.,  0.,  0.,  0.,  0.,\n",
       "          0.,  0.,  0.,  0.,  0.,  0.,  0.,  0.,  0.,  0.,  0.,  0.,  0.,\n",
       "          0.,  0.,  0.,  0.,  0.,  0.,  0.,  0.,  0.,  0.,  0.,  0.,  0.,\n",
       "          0.,  0.,  0.,  0.,  0.,  0.,  0.,  0.,  0.,  0.,  0.,  0.,  0.,\n",
       "          1.,  1.,  0.,  0.,  0.,  0.,  0.,  0.,  0.,  0.,  0.,  0.,  0.,\n",
       "          0.,  0.,  0.,  0.,  0.,  0.,  0.,  0.,  0.,  0.,  0.,  0.,  1.,\n",
       "          0.,  1.,  0.,  0.,  0.,  0.,  0.,  0.,  0.,  0.,  0.,  0.,  0.,\n",
       "          0.,  0.,  0.,  0.,  0.,  0.,  0.,  1.,  0.,  0.,  0.,  0.,  0.,\n",
       "          0.,  0.,  2.,  0.,  0.,  0.,  1.,  2.]]),\n",
       " 'Y_prediction_test': array([[ 0.,  2.,  0.,  0.,  0.,  0.,  0.,  0.,  1.,  0.,  0.,  1.,  1.,\n",
       "          0.,  0.,  0.,  1.,  1.,  0.,  0.,  1.,  0.,  0.,  0.,  0.,  1.,\n",
       "          1.,  0.,  0.,  0.,  0.,  0.,  0.,  0.,  0.,  1.,  2.,  0.,  0.,\n",
       "          0.,  2.,  0.,  0.,  1.,  0.,  0.,  0.,  0.,  1.,  0.,  0.,  0.,\n",
       "          1.,  0.,  0.,  0.,  0.,  1.,  0.,  0.,  0.,  0.,  0.,  2.,  1.,\n",
       "          0.,  0.,  0.,  0.,  1.,  0.,  0.,  1.,  0.,  0.,  0.,  1.,  0.,\n",
       "          0.,  2.]]),\n",
       " 'b': -0.00038541006695642943,\n",
       " 'costs': [0.6931471805599454,\n",
       "  75.154187190324834,\n",
       "  100.23671073011566,\n",
       "  90.761505301682249,\n",
       "  93.795629711981206,\n",
       "  96.017999361092166,\n",
       "  96.02964149147472,\n",
       "  93.586019304239329,\n",
       "  94.251828070770216,\n",
       "  95.511185912724372],\n",
       " 'epoch': 1000,\n",
       " 'learning rate': 0.005,\n",
       " 'w': array([[ 0.00726685],\n",
       "        [ 0.01064547],\n",
       "        [ 0.00667119],\n",
       "        ..., \n",
       "        [-0.00075597],\n",
       "        [-0.00340656],\n",
       "        [ 0.00152408]])}"
      ]
     },
     "execution_count": 82,
     "metadata": {},
     "output_type": "execute_result"
    }
   ],
   "source": [
    "train_X = standardized_train_examples\n",
    "train_Y = labels_train\n",
    "test_X = standardized_test_examples\n",
    "test_Y = labels_test\n",
    "\n",
    "# print(test_X.shape)\n",
    "# print(test_X[0])\n",
    "# print(test_X[0].shape)\n",
    "\n",
    "# print(\"start\")\n",
    "# print(train_X.shape,\"train_X\")\n",
    "# print(train_Y.shape,\"train_Y\")\n",
    "# print(test_X.shape,\"test_X\")\n",
    "# print(test_Y.shape,\"test_Y\")\n",
    "\n",
    "logisticRegression(train_X,train_Y,test_X,test_Y,learning_rate,epoch)"
   ]
  },
  {
   "cell_type": "code",
   "execution_count": null,
   "metadata": {
    "collapsed": true
   },
   "outputs": [],
   "source": []
  },
  {
   "cell_type": "code",
   "execution_count": null,
   "metadata": {
    "collapsed": true
   },
   "outputs": [],
   "source": []
  },
  {
   "cell_type": "code",
   "execution_count": null,
   "metadata": {
    "collapsed": true
   },
   "outputs": [],
   "source": []
  },
  {
   "cell_type": "code",
   "execution_count": null,
   "metadata": {
    "collapsed": true
   },
   "outputs": [],
   "source": []
  },
  {
   "cell_type": "code",
   "execution_count": null,
   "metadata": {
    "collapsed": true
   },
   "outputs": [],
   "source": []
  },
  {
   "cell_type": "code",
   "execution_count": null,
   "metadata": {
    "collapsed": true
   },
   "outputs": [],
   "source": []
  }
 ],
 "metadata": {
  "kernelspec": {
   "display_name": "Python 3",
   "language": "python",
   "name": "python3"
  },
  "language_info": {
   "codemirror_mode": {
    "name": "ipython",
    "version": 3
   },
   "file_extension": ".py",
   "mimetype": "text/x-python",
   "name": "python",
   "nbconvert_exporter": "python",
   "pygments_lexer": "ipython3",
   "version": "3.6.3"
  }
 },
 "nbformat": 4,
 "nbformat_minor": 2
}

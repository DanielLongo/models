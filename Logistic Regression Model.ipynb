{
 "cells": [
  {
   "cell_type": "markdown",
   "metadata": {},
   "source": [
    "(1) Import Libraries and define constants"
   ]
  },
  {
   "cell_type": "code",
   "execution_count": 82,
   "metadata": {
    "collapsed": true
   },
   "outputs": [],
   "source": [
    "import numpy as np\n",
    "import scipy \n",
    "import os\n",
    "import matplotlib.pyplot as plot\n",
    "from scipy import ndimage"
   ]
  },
  {
   "cell_type": "code",
   "execution_count": 83,
   "metadata": {
    "collapsed": true
   },
   "outputs": [],
   "source": [
    "# Global Constants\n",
    "side_length = 650\n",
    "image_path = \"./Logistic_Regression_Data/\"\n",
    "test_ratio = .2\n",
    "epoch = 1000\n",
    "learning_rate = .01"
   ]
  },
  {
   "cell_type": "markdown",
   "metadata": {},
   "source": [
    "(2) Create train and test examples:"
   ]
  },
  {
   "cell_type": "code",
   "execution_count": 84,
   "metadata": {
    "collapsed": true
   },
   "outputs": [],
   "source": [
    "def getImageArrays(path, side_length): #returns list of images arrays for a specified path\n",
    "    image_names = os.listdir(path)\n",
    "    examples = []\n",
    "    for image_name in image_names:\n",
    "        if image_name.split(\".\")[-1] != \"DS_Store\":\n",
    "            cur_image_path = path + image_name\n",
    "            cur_array = scipy.ndimage.imread(cur_image_path,flatten=False) #reads image as numpy array (lenght,height,3)\n",
    "            cur_array_resized = scipy.misc.imresize(cur_array,size=(side_length,side_length,3)) #resizes images to a uniform shape\n",
    "            examples += [cur_array_resized] \n",
    "    return examples"
   ]
  },
  {
   "cell_type": "code",
   "execution_count": 85,
   "metadata": {},
   "outputs": [],
   "source": [
    "#create examples & labels\n",
    "cow_images_path = image_path + \"cows/\"\n",
    "notCow_image_path = image_path + \"notcows/\"\n",
    "\n",
    "examples_cow = getImageArrays(cow_images_path, side_length)\n",
    "labels_cow = np.ones(len(examples_cow))\n",
    "examples_notCow = getImageArrays(cow_images_path, side_length)\n",
    "labels_notCow = np.zeros(len(examples_notCow))\n",
    "\n",
    "examples_cow = np.array(examples_cow)\n",
    "examples_notCow = np.array(examples_notCow)\n",
    "\n",
    "assert(examples_cow.shape[1:] == (side_length,side_length,3)), \"examples_cow are invalid shape\"\n",
    "examples = np.concatenate((examples_cow,examples_notCow))\n",
    "labels = np.concatenate((labels_cow,labels_notCow))"
   ]
  },
  {
   "cell_type": "code",
   "execution_count": 86,
   "metadata": {
    "collapsed": true
   },
   "outputs": [],
   "source": [
    "#shuffle examples and labels\n",
    "shuffled_indexing = np.random.permutation(labels.shape[0])\n",
    "examples = examples[shuffled_indexing]\n",
    "labels = labels[shuffled_indexing]"
   ]
  },
  {
   "cell_type": "code",
   "execution_count": 87,
   "metadata": {
    "collapsed": true
   },
   "outputs": [],
   "source": [
    "#seperate train and test examples\n",
    "number_examples_test = int(len(examples)*test_ratio)\n",
    "number_labels_test = int(len(labels)*test_ratio)\n",
    "\n",
    "examples_test = examples[:number_examples_test]\n",
    "examples_train = examples[number_examples_test:]\n",
    "labels_test = labels[:number_labels_test]\n",
    "labels_train = labels[number_labels_test:] "
   ]
  },
  {
   "cell_type": "code",
   "execution_count": 88,
   "metadata": {
    "collapsed": true
   },
   "outputs": [],
   "source": [
    "#reshape labels for future matrix operations\n",
    "labels_train = np.reshape(labels_train,(1,len(labels_train)))\n",
    "labels_test = np.reshape(labels_test,(1,len(labels_test)))"
   ]
  },
  {
   "cell_type": "code",
   "execution_count": 89,
   "metadata": {
    "collapsed": true
   },
   "outputs": [],
   "source": [
    "#flatten examples\n",
    "flattened_train_examples = train_examples.reshape(train_examples.shape[0], -1).T\n",
    "flattened_test_examples = test_examples.reshape(test_examples.shape[0], -1).T                                                                                                                                                                                                                                                              "
   ]
  },
  {
   "cell_type": "code",
   "execution_count": 90,
   "metadata": {
    "collapsed": true
   },
   "outputs": [],
   "source": [
    "# Standardize color values of the image (decrease computational cost durring cross entropy)\n",
    "standardized_train_examples = flattened_train_examples/255 #225 is the maximum rgb value/ This is done to decrease varaince in inputs thus more efficint\n",
    "standardized_test_examples = flattened_test_examples/255"
   ]
  },
  {
   "cell_type": "markdown",
   "metadata": {},
   "source": [
    "(3) Defeine basic functions"
   ]
  },
  {
   "cell_type": "code",
   "execution_count": 91,
   "metadata": {
    "collapsed": true
   },
   "outputs": [],
   "source": [
    "def sigmoid(x):\n",
    "    output = 1.0/(1.0+np.exp(-x))\n",
    "    return output"
   ]
  },
  {
   "cell_type": "code",
   "execution_count": 92,
   "metadata": {
    "collapsed": true
   },
   "outputs": [],
   "source": [
    "def initialize_zeros(dimension): #dimension = len(flattened_examples)\n",
    "    zeroed_weights = np.zeros((dimension, 1)) \n",
    "    zeroed_baisies = 0. #baisies always start at 0 b/c they are developed as the model trains\n",
    "    assert(isinstance(zeroed_baisies, float) or isinstance(zeroed_baisies, int))\n",
    "    \n",
    "    return zeroed_weights, zeroed_baisies"
   ]
  },
  {
   "cell_type": "code",
   "execution_count": 93,
   "metadata": {
    "collapsed": true
   },
   "outputs": [],
   "source": [
    "def crossEntropyLoss(a,Y):\n",
    "    m = Y.shape[1] #len(Y) doesn't work, need 2nd dimesnion\n",
    "    loss = -(1 / m) * np.sum(Y * np.log(a) + (1 - Y) * np.log(1 - a))\n",
    "    return loss"
   ]
  },
  {
   "cell_type": "markdown",
   "metadata": {
    "collapsed": true
   },
   "source": [
    "(4) Foward Pass"
   ]
  },
  {
   "cell_type": "code",
   "execution_count": 94,
   "metadata": {
    "collapsed": true
   },
   "outputs": [],
   "source": [
    "def propagate(X,Y,w,b):\n",
    "    # b = scalar\n",
    "    # w = (____, 1)\n",
    "    # X = (____, examples)\n",
    "    # Y = (1, examples)\n",
    "#     print(\"propagate shapes\")\n",
    "#     print(\"X\",np.shape(X))\n",
    "#     print(\"Y\",np.shape(Y))\n",
    "#     print(\"w\",np.shape(w))\n",
    "#     print(\"b\",np.shape(b))\n",
    "    \n",
    "    w_transposed = w.T\n",
    "    num_of_examples = np.shape(X)[1]\n",
    "    \n",
    "    dot_product = np.dot(w_transposed,X) #dot product of X and w be careful to use correct order\n",
    "    z = dot_product + b\n",
    "    a = sigmoid(z) #in begining should be 0\n",
    "    loss = crossEntropyLoss(a,Y)\n",
    "    dw = (1/num_of_examples) * np.dot(X,(a-Y).T) #?\n",
    "    db = (1/num_of_examples) * np.sum(a-Y) #np.sum collapes input\n",
    "    loss = np.squeeze(loss)\n",
    "    grads = {\"dw\":dw,\"db\":db}\n",
    "    return grads,loss    \n"
   ]
  },
  {
   "cell_type": "markdown",
   "metadata": {},
   "source": [
    "(5) Optimize"
   ]
  },
  {
   "cell_type": "code",
   "execution_count": 95,
   "metadata": {
    "collapsed": true
   },
   "outputs": [],
   "source": [
    "def optimizer(w, b, X, Y, learning_rate, num_iterations, print_results=True):\n",
    "    # b = scalar\n",
    "    # w = (____, 1)\n",
    "    # X = (____, examples)\n",
    "    # Y = (1, examples)\n",
    "#     print(\"optimizer shapes\")\n",
    "#     print(\"X\",np.shape(X))\n",
    "#     print(\"Y\",np.shape(Y))\n",
    "#     print(\"w\",np.shape(w))\n",
    "#     print(\"b\",np.shape(b))\n",
    "    costs = []\n",
    "    for i in range(num_iterations):\n",
    "        grads, cost = propagate(X,Y,w,b)\n",
    "        dw = grads[\"dw\"]\n",
    "        db = grads[\"db\"]\n",
    "        w = w - (learning_rate * dw)\n",
    "        b = b - (learning_rate * db)\n",
    "        if (i % 10 == 0) and (print_results == True):\n",
    "            costs += [cost]\n",
    "            print(\"cost\",cost,(i+1)*100/num_iterations,\"%\")\n",
    "            \n",
    "    if print_results == True:\n",
    "        print(\"costs\" , costs )\n",
    "    grads = {\"dw\":dw,\"db\":db}\n",
    "    params = {\"w\":w,\"b\":b}\n",
    "    return grads,params,costs"
   ]
  },
  {
   "cell_type": "markdown",
   "metadata": {},
   "source": [
    "(6) Validate"
   ]
  },
  {
   "cell_type": "code",
   "execution_count": 96,
   "metadata": {
    "collapsed": true
   },
   "outputs": [],
   "source": [
    "def predictor(X,w,b):\n",
    "    # b = scalar\n",
    "    # w = (____, 1)\n",
    "    # X = (____, examples)\n",
    "#     print(\"predictor shapes\")\n",
    "#     print(\"X\",np.shape(X))\n",
    "#     print(\"w\",np.shape(w))\n",
    "#     print(\"b\",np.shape(b))\n",
    "    w_transposed = w.T\n",
    "    prediction = (np.dot(w_transposed,X)) + b\n",
    "    prediction = sigmoid(prediction)\n",
    "    prediction *= 2.0\n",
    "    prediction = np.floor(prediction)\n",
    "    return prediction"
   ]
  },
  {
   "cell_type": "markdown",
   "metadata": {},
   "source": [
    "(7) Driver"
   ]
  },
  {
   "cell_type": "code",
   "execution_count": 97,
   "metadata": {
    "collapsed": true
   },
   "outputs": [],
   "source": [
    "def logisticRegression(train_X,train_Y,test_X,test_Y,learning_rate,epoch):\n",
    "    # train_x = (image_width * image_width * 3, training_examples)\n",
    "    # train_y = (1, train_examples)\n",
    "    # test_x = (____, test_examples)\n",
    "    # test_y = (1, test_examples)\n",
    "    \n",
    "    assert(train_X.shape[1] == train_Y.shape[1]), \"train exampes dimensions invalid\"\n",
    "#     print(\"logisticShapes\")\n",
    "#     print(\"train x\",train_X.shape)\n",
    "#     print(\"train y\",train_Y.shape)\n",
    "#     print(\"test X\",test_X.shape)\n",
    "#     print(\"test Y\",test_Y.shape)\n",
    "    #Inialize w/b\n",
    "    w,b = initialize_zeros(side_length*side_length*3)\n",
    "    \n",
    "    #Train\n",
    "    _, params,_ = optimizer(w, b, train_X, train_Y, learning_rate, epoch)\n",
    "    w,b = params[\"w\"], params[\"b\"]\n",
    "    print(\"Training finsihed\")\n",
    "\n",
    "    #Eval\n",
    "    prediction_train = predictor(train_X,w,b)\n",
    "    accuracy_train = np.mean(np.abs(prediction_train - train_Y))\n",
    "    print(\"Train Accuracy:\", accuracy_train)\n",
    "    \n",
    "    #Test\n",
    "    prediction_test = predictor(test_X,w,b)\n",
    "    accuracy_test = np.mean(np.abs(prediction_test - test_Y))\n",
    "    print(\"Actual Accuracy:\", accuracy_test)\n",
    "        "
   ]
  },
  {
   "cell_type": "code",
   "execution_count": 98,
   "metadata": {},
   "outputs": [
    {
     "name": "stdout",
     "output_type": "stream",
     "text": [
      "cost 0.69314718056 0.1 %\n"
     ]
    },
    {
     "name": "stderr",
     "output_type": "stream",
     "text": [
      "/anaconda3/lib/python3.6/site-packages/ipykernel_launcher.py:3: RuntimeWarning: divide by zero encountered in log\n",
      "  This is separate from the ipykernel package so we can avoid doing imports until\n",
      "/anaconda3/lib/python3.6/site-packages/ipykernel_launcher.py:3: RuntimeWarning: invalid value encountered in multiply\n",
      "  This is separate from the ipykernel package so we can avoid doing imports until\n",
      "/anaconda3/lib/python3.6/site-packages/ipykernel_launcher.py:2: RuntimeWarning: overflow encountered in exp\n",
      "  \n"
     ]
    },
    {
     "name": "stdout",
     "output_type": "stream",
     "text": [
      "cost nan 1.1 %\n",
      "cost nan 2.1 %\n",
      "cost nan 3.1 %\n",
      "cost nan 4.1 %\n",
      "cost nan 5.1 %\n",
      "cost nan 6.1 %\n",
      "cost nan 7.1 %\n",
      "cost nan 8.1 %\n",
      "cost nan 9.1 %\n",
      "cost nan 10.1 %\n",
      "cost nan 11.1 %\n",
      "cost nan 12.1 %\n",
      "cost nan 13.1 %\n",
      "cost nan 14.1 %\n",
      "cost nan 15.1 %\n",
      "cost nan 16.1 %\n",
      "cost nan 17.1 %\n",
      "cost nan 18.1 %\n",
      "cost nan 19.1 %\n",
      "cost nan 20.1 %\n",
      "cost nan 21.1 %\n",
      "cost nan 22.1 %\n",
      "cost nan 23.1 %\n",
      "cost nan 24.1 %\n",
      "cost nan 25.1 %\n",
      "cost nan 26.1 %\n",
      "cost nan 27.1 %\n",
      "cost nan 28.1 %\n",
      "cost nan 29.1 %\n",
      "cost nan 30.1 %\n",
      "cost nan 31.1 %\n",
      "cost nan 32.1 %\n",
      "cost nan 33.1 %\n",
      "cost nan 34.1 %\n",
      "cost nan 35.1 %\n",
      "cost nan 36.1 %\n",
      "cost nan 37.1 %\n",
      "cost nan 38.1 %\n",
      "cost nan 39.1 %\n",
      "cost nan 40.1 %\n",
      "cost nan 41.1 %\n",
      "cost nan 42.1 %\n",
      "cost nan 43.1 %\n",
      "cost nan 44.1 %\n",
      "cost nan 45.1 %\n",
      "cost nan 46.1 %\n",
      "cost nan 47.1 %\n",
      "cost nan 48.1 %\n",
      "cost nan 49.1 %\n",
      "cost nan 50.1 %\n",
      "cost nan 51.1 %\n",
      "cost nan 52.1 %\n",
      "cost nan 53.1 %\n",
      "cost nan 54.1 %\n",
      "cost nan 55.1 %\n",
      "cost nan 56.1 %\n",
      "cost nan 57.1 %\n",
      "cost nan 58.1 %\n",
      "cost nan 59.1 %\n",
      "cost nan 60.1 %\n",
      "cost nan 61.1 %\n",
      "cost nan 62.1 %\n",
      "cost nan 63.1 %\n",
      "cost nan 64.1 %\n",
      "cost nan 65.1 %\n",
      "cost nan 66.1 %\n",
      "cost nan 67.1 %\n",
      "cost nan 68.1 %\n",
      "cost nan 69.1 %\n",
      "cost nan 70.1 %\n",
      "cost nan 71.1 %\n",
      "cost nan 72.1 %\n",
      "cost nan 73.1 %\n",
      "cost nan 74.1 %\n",
      "cost nan 75.1 %\n",
      "cost nan 76.1 %\n",
      "cost nan 77.1 %\n",
      "cost nan 78.1 %\n",
      "cost nan 79.1 %\n",
      "cost nan 80.1 %\n",
      "cost nan 81.1 %\n",
      "cost nan 82.1 %\n",
      "cost nan 83.1 %\n",
      "cost nan 84.1 %\n",
      "cost nan 85.1 %\n",
      "cost nan 86.1 %\n",
      "cost nan 87.1 %\n",
      "cost nan 88.1 %\n",
      "cost nan 89.1 %\n",
      "cost nan 90.1 %\n",
      "cost nan 91.1 %\n",
      "cost nan 92.1 %\n",
      "cost nan 93.1 %\n",
      "cost nan 94.1 %\n",
      "cost nan 95.1 %\n",
      "cost nan 96.1 %\n",
      "cost nan 97.1 %\n",
      "cost nan 98.1 %\n",
      "cost nan 99.1 %\n",
      "costs [0.6931471805599454, nan, nan, nan, nan, nan, nan, nan, nan, nan, nan, nan, nan, nan, nan, nan, nan, nan, nan, nan, nan, nan, nan, nan, nan, nan, nan, nan, nan, nan, nan, nan, nan, nan, nan, nan, nan, nan, nan, nan, nan, nan, nan, nan, nan, nan, nan, nan, nan, nan, nan, nan, nan, nan, nan, nan, nan, nan, nan, nan, nan, nan, nan, nan, nan, nan, nan, nan, nan, nan, nan, nan, nan, nan, nan, nan, nan, nan, nan, nan, nan, nan, nan, nan, nan, nan, nan, nan, nan, nan, nan, nan, nan, nan, nan, nan, nan, nan, nan, nan]\n",
      "Training finsihed\n",
      "Train Accuracy: 0.415625\n",
      "Actual Accuracy: 0.5625\n"
     ]
    }
   ],
   "source": [
    "train_X = standardized_train_examples\n",
    "train_Y = labels_train\n",
    "test_X = standardized_test_examples\n",
    "test_Y = labels_test\n",
    "\n",
    "# print(\"start\")\n",
    "# print(train_X.shape,\"train_X\")\n",
    "# print(train_Y.shape,\"train_Y\")\n",
    "# print(test_X.shape,\"test_X\")\n",
    "# print(test_Y.shape,\"test_Y\")\n",
    "\n",
    "logisticRegression(train_X,train_Y,test_X,test_Y,learning_rate,epoch)"
   ]
  },
  {
   "cell_type": "code",
   "execution_count": null,
   "metadata": {
    "collapsed": true
   },
   "outputs": [],
   "source": []
  }
 ],
 "metadata": {
  "kernelspec": {
   "display_name": "Python 3",
   "language": "python",
   "name": "python3"
  },
  "language_info": {
   "codemirror_mode": {
    "name": "ipython",
    "version": 3
   },
   "file_extension": ".py",
   "mimetype": "text/x-python",
   "name": "python",
   "nbconvert_exporter": "python",
   "pygments_lexer": "ipython3",
   "version": "3.6.3"
  }
 },
 "nbformat": 4,
 "nbformat_minor": 2
}

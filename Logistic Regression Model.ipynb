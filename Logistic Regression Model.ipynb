{
 "cells": [
  {
   "cell_type": "code",
   "execution_count": 24,
   "metadata": {
    "collapsed": true
   },
   "outputs": [],
   "source": [
    "#Image classifer with logistic regression\n",
    "#images shape(width,height,3(rgb))\n",
    "\n",
    "import numpy as np\n",
    "import scipy \n",
    "import os\n",
    "import matplotlib.pyplot as plot\n",
    "from scipy import ndimage\n",
    "\n",
    "# TO-DO\n",
    "# fetch a ton more images, of your own choice / category \n",
    "# create a train and a test set <---- write code for this "
   ]
  },
  {
   "cell_type": "code",
   "execution_count": 34,
   "metadata": {
    "collapsed": true
   },
   "outputs": [],
   "source": [
    "# Global Constants\n",
    "side_length = 650\n",
    "image_path = \"./Logistic_Regression_Data/\""
   ]
  },
  {
   "cell_type": "code",
   "execution_count": null,
   "metadata": {
    "collapsed": true
   },
   "outputs": [],
   "source": [
    "#\n",
    "test0 = \"./Logistic_Regression_Data/\" + \"cow0.jpg\" #standardize file extensions\n",
    "test1 = \"./Logistic_Regression_Data/\" + \"notCow0.jpg\" \n",
    "test0Array = scipy.ndimage.imread(test0,flatten=False)\n",
    "test1Array = scipy.ndimage.imread(test1,flatten=False) \n",
    "print(\"Shape of Test Image 0:\", np.shape(test0Array))\n",
    "print(\"Shape of Test Image 1:\", np.shape(test1Array))\n",
    "\n",
    "# Resize input image arrays \n",
    "test0Array_resized = scipy.misc.imresize(test0Array,size=(side_length,side_length,3))\n",
    "test1Array_resized = scipy.misc.imresize(test1Array,size=(side_length,side_length,3))"
   ]
  },
  {
   "cell_type": "code",
   "execution_count": 42,
   "metadata": {},
   "outputs": [
    {
     "name": "stdout",
     "output_type": "stream",
     "text": [
      "(650, 650, 3)\n",
      "(650, 650, 3)\n",
      "(650, 650, 3)\n",
      "(650, 650, 3)\n",
      "(650, 650, 3)\n",
      "(650, 650, 3)\n",
      "Shape of train_examples: (7605000,)\n",
      "Shape of Test Image 0: (409, 615, 3)\n",
      "Shape of Test Image 1: (594, 990, 3)\n"
     ]
    }
   ],
   "source": [
    "# Read in input image files into arrays, validate inputs\n",
    "images = os.listdir(image_path)\n",
    "\n",
    "# First, build dataset for training data\n",
    "train_examples = np.array([])\n",
    "for image in images:\n",
    "    if image.split(\".\")[-1] != \"DS_Store\":\n",
    "        cur_image_path = image_path + image\n",
    "        cur_array = scipy.ndimage.imread(cur_image_path,flatten=False)\n",
    "        curr_array_resized = scipy.misc.imresize(cur_array,size=(side_length,side_length,3))\n",
    "        print (curr_array_resized.shape)\n",
    "        train_examples = np.append(train_examples, curr_array_resized)\n",
    "print(\"Shape of train_examples:\",train_examples.shape)\n",
    "\n",
    "# Then, build dataset for test data...\n",
    "\n",
    "# Next, we flatten our train and test examples\n",
    "# .T => transposes our inputs\n",
    "# (a, b, c, d) ----> (b * c * d, a)\n",
    "flattened_train_examples = train_examples.reshape(train_examples[0], -1).T \n",
    "        \n",
    "# print(\"Shape of test0Array_resized:\",np.shape(test0Array_resized))\n",
    "\n",
    "# Standardize color values of the image \n",
    "standardized_train_examples = flattened_train_examples/255"
   ]
  },
  {
   "cell_type": "code",
   "execution_count": 44,
   "metadata": {},
   "outputs": [
    {
     "data": {
      "text/plain": [
       "0.99995460213129761"
      ]
     },
     "execution_count": 44,
     "metadata": {},
     "output_type": "execute_result"
    }
   ],
   "source": [
    "def sigmoid(x):\n",
    "    output = 1.0/(1.0+np.exp(-x))\n",
    "    return output\n",
    "    \n",
    "sigmoid(10)\n",
    "# write test cases for this function so that it works for np arrays "
   ]
  },
  {
   "cell_type": "code",
   "execution_count": 48,
   "metadata": {},
   "outputs": [
    {
     "ename": "AssertionError",
     "evalue": "",
     "output_type": "error",
     "traceback": [
      "\u001b[0;31m---------------------------------------------------------------------------\u001b[0m",
      "\u001b[0;31mAssertionError\u001b[0m                            Traceback (most recent call last)",
      "\u001b[0;32m<ipython-input-48-4bc1aa96b5a0>\u001b[0m in \u001b[0;36m<module>\u001b[0;34m()\u001b[0m\n\u001b[1;32m      8\u001b[0m     \u001b[0;32mreturn\u001b[0m \u001b[0mzeroed_weights\u001b[0m\u001b[0;34m,\u001b[0m \u001b[0mzeored_baisies\u001b[0m\u001b[0;34m\u001b[0m\u001b[0m\n\u001b[1;32m      9\u001b[0m \u001b[0;34m\u001b[0m\u001b[0m\n\u001b[0;32m---> 10\u001b[0;31m \u001b[0minitialize_zeros\u001b[0m\u001b[0;34m(\u001b[0m\u001b[0;36m10\u001b[0m\u001b[0;34m)\u001b[0m\u001b[0;34m\u001b[0m\u001b[0m\n\u001b[0m\u001b[1;32m     11\u001b[0m \u001b[0;31m# write test cases for this function <--- use asserts, check that zeored_weights and zeored_baisies are of the right\u001b[0m\u001b[0;34m\u001b[0m\u001b[0;34m\u001b[0m\u001b[0m\n\u001b[1;32m     12\u001b[0m \u001b[0;31m# type.\u001b[0m\u001b[0;34m\u001b[0m\u001b[0;34m\u001b[0m\u001b[0m\n",
      "\u001b[0;32m<ipython-input-48-4bc1aa96b5a0>\u001b[0m in \u001b[0;36minitialize_zeros\u001b[0;34m(dimension)\u001b[0m\n\u001b[1;32m      4\u001b[0m \u001b[0;34m\u001b[0m\u001b[0m\n\u001b[1;32m      5\u001b[0m     \u001b[0;31m# asserts here, use isinstance()\u001b[0m\u001b[0;34m\u001b[0m\u001b[0;34m\u001b[0m\u001b[0m\n\u001b[0;32m----> 6\u001b[0;31m     \u001b[0;32massert\u001b[0m\u001b[0;34m(\u001b[0m\u001b[0misinstance\u001b[0m\u001b[0;34m(\u001b[0m\u001b[0mzeored_baisies\u001b[0m\u001b[0;34m,\u001b[0m \u001b[0mfloat\u001b[0m\u001b[0;34m)\u001b[0m \u001b[0;32mor\u001b[0m \u001b[0misinstance\u001b[0m\u001b[0;34m(\u001b[0m\u001b[0mzeored_baisies\u001b[0m\u001b[0;34m,\u001b[0m \u001b[0mint\u001b[0m\u001b[0;34m)\u001b[0m\u001b[0;34m)\u001b[0m\u001b[0;34m\u001b[0m\u001b[0m\n\u001b[0m\u001b[1;32m      7\u001b[0m \u001b[0;34m\u001b[0m\u001b[0m\n\u001b[1;32m      8\u001b[0m     \u001b[0;32mreturn\u001b[0m \u001b[0mzeroed_weights\u001b[0m\u001b[0;34m,\u001b[0m \u001b[0mzeored_baisies\u001b[0m\u001b[0;34m\u001b[0m\u001b[0m\n",
      "\u001b[0;31mAssertionError\u001b[0m: "
     ]
    }
   ],
   "source": [
    "def initialize_zeros(dimension):\n",
    "    zeored_weights = np.zeros((dimension, 1))\n",
    "    zeored_baisies = \"hello\"\n",
    "    \n",
    "    # asserts here, use isinstance()\n",
    "    assert(isinstance(zeored_baisies, float) or isinstance(zeored_baisies, int))\n",
    "    \n",
    "    return zeroed_weights, zeored_baisies\n",
    "    \n",
    "initialize_zeros(10)\n",
    "# write test cases for this function <--- use asserts, check that zeored_weights and zeored_baisies are of the right\n",
    "# type. "
   ]
  },
  {
   "cell_type": "code",
   "execution_count": null,
   "metadata": {
    "collapsed": true
   },
   "outputs": [],
   "source": [
    "def "
   ]
  }
 ],
 "metadata": {
  "kernelspec": {
   "display_name": "Python 3",
   "language": "python",
   "name": "python3"
  },
  "language_info": {
   "codemirror_mode": {
    "name": "ipython",
    "version": 3
   },
   "file_extension": ".py",
   "mimetype": "text/x-python",
   "name": "python",
   "nbconvert_exporter": "python",
   "pygments_lexer": "ipython3",
   "version": "3.6.3"
  }
 },
 "nbformat": 4,
 "nbformat_minor": 2
}

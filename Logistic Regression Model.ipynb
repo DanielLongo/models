{
 "cells": [
  {
   "cell_type": "markdown",
   "metadata": {},
   "source": [
    "(1) Import Libraries and define constants"
   ]
  },
  {
   "cell_type": "code",
   "execution_count": 135,
   "metadata": {
    "collapsed": true
   },
   "outputs": [],
   "source": [
    "import numpy as np\n",
    "import scipy \n",
    "import os\n",
    "import matplotlib.pyplot as plot\n",
    "from scipy import ndimage\n",
    "import sys\n",
    "import math"
   ]
  },
  {
   "cell_type": "code",
   "execution_count": 145,
   "metadata": {
    "collapsed": true
   },
   "outputs": [],
   "source": [
    "# Global Constants\n",
    "side_length = 650\n",
    "image_path = \"./Logistic_Regression_Data/\"\n",
    "test_ratio = .2\n",
    "epoch = 152\n",
    "learning_rate = .005"
   ]
  },
  {
   "cell_type": "markdown",
   "metadata": {},
   "source": [
    "(2) Create train and test examples:"
   ]
  },
  {
   "cell_type": "code",
   "execution_count": 3,
   "metadata": {
    "collapsed": true
   },
   "outputs": [],
   "source": [
    "def getImageArrays(path, side_length): #returns list of images arrays for a specified path\n",
    "    image_names = os.listdir(path)\n",
    "    examples = []\n",
    "    for image_name in image_names:\n",
    "        if image_name.split(\".\")[-1] != \"DS_Store\":\n",
    "            cur_image_path = path + image_name\n",
    "            cur_array = scipy.ndimage.imread(cur_image_path,flatten=False) #reads image as numpy array (lenght,height,3)\n",
    "            cur_array_resized = scipy.misc.imresize(cur_array,size=(side_length,side_length,3)) #resizes images to a uniform shape\n",
    "            examples += [cur_array_resized] \n",
    "    return examples"
   ]
  },
  {
   "cell_type": "code",
   "execution_count": 4,
   "metadata": {
    "collapsed": true
   },
   "outputs": [],
   "source": [
    "#create examples & labels\n",
    "cow_images_path = image_path + \"cows/\"\n",
    "notCow_image_path = image_path + \"notcows/\"\n",
    "\n",
    "examples_cow = getImageArrays(cow_images_path, side_length)\n",
    "labels_cow = np.ones(len(examples_cow))\n",
    "examples_notCow = getImageArrays(cow_images_path, side_length)\n",
    "labels_notCow = np.zeros(len(examples_notCow))\n",
    "\n",
    "examples_cow = np.array(examples_cow)\n",
    "examples_notCow = np.array(examples_notCow)\n",
    "\n",
    "assert(examples_cow.shape[1:] == (side_length,side_length,3)), \"examples_cow are invalid shape\"\n",
    "examples = np.concatenate((examples_cow,examples_notCow))\n",
    "labels = np.concatenate((labels_cow,labels_notCow))"
   ]
  },
  {
   "cell_type": "code",
   "execution_count": 5,
   "metadata": {
    "collapsed": true
   },
   "outputs": [],
   "source": [
    "#shuffle examples and labels\n",
    "shuffled_indexing = np.random.permutation(labels.shape[0])\n",
    "examples = examples[shuffled_indexing]\n",
    "labels = labels[shuffled_indexing]"
   ]
  },
  {
   "cell_type": "code",
   "execution_count": 6,
   "metadata": {},
   "outputs": [
    {
     "name": "stdout",
     "output_type": "stream",
     "text": [
      "Number of training examples:  256\n",
      "Number of test examples:  64\n"
     ]
    }
   ],
   "source": [
    "#seperate train and test examples\n",
    "number_examples_test = int(len(examples)*test_ratio)\n",
    "number_labels_test = int(len(labels)*test_ratio)\n",
    "\n",
    "examples_test = examples[:number_examples_test]\n",
    "examples_train = examples[number_examples_test:]\n",
    "labels_test = labels[:number_labels_test]\n",
    "labels_train = labels[number_labels_test:]\n",
    "print(\"Number of training examples: \", examples_train.shape[0])\n",
    "print(\"Number of test examples: \", examples_test.shape[0])"
   ]
  },
  {
   "cell_type": "code",
   "execution_count": 7,
   "metadata": {},
   "outputs": [
    {
     "name": "stdout",
     "output_type": "stream",
     "text": [
      "labels_train (1, 256)\n",
      "labels_test (1, 64)\n"
     ]
    }
   ],
   "source": [
    "#reshape labels for future matrix operations\n",
    "labels_train = np.reshape(labels_train,(1,len(labels_train)))\n",
    "labels_test = np.reshape(labels_test,(1,len(labels_test)))\n",
    "print(\"labels_train\",labels_train.shape)\n",
    "print(\"labels_test\",labels_test.shape)"
   ]
  },
  {
   "cell_type": "code",
   "execution_count": 8,
   "metadata": {},
   "outputs": [
    {
     "name": "stdout",
     "output_type": "stream",
     "text": [
      "flattened examples (1267500, 64) (1267500, 256)\n"
     ]
    }
   ],
   "source": [
    "#flatten examples\n",
    "flattened_train_examples = examples_train.reshape(examples_train.shape[0], -1).T\n",
    "flattened_test_examples = examples_test.reshape(examples_test.shape[0], -1).T  \n",
    "print(\"flattened examples\",flattened_test_examples.shape,flattened_train_examples.shape)"
   ]
  },
  {
   "cell_type": "code",
   "execution_count": 9,
   "metadata": {},
   "outputs": [
    {
     "name": "stdout",
     "output_type": "stream",
     "text": [
      "standardized (1267500, 64) (1267500, 256)\n"
     ]
    }
   ],
   "source": [
    "# Standardize color values of the image (decrease computational cost durring cross entropy)\n",
    "standardized_train_examples = flattened_train_examples/255 #225 is the maximum rgb value/ This is done to decrease varaince in inputs thus more efficint\n",
    "standardized_test_examples = flattened_test_examples/255\n",
    "print(\"standardized\",standardized_test_examples.shape,standardized_train_examples.shape)"
   ]
  },
  {
   "cell_type": "markdown",
   "metadata": {},
   "source": [
    "(3) Defeine basic functions"
   ]
  },
  {
   "cell_type": "code",
   "execution_count": 10,
   "metadata": {
    "collapsed": true
   },
   "outputs": [],
   "source": [
    "def sigmoid(x):\n",
    "    output = 1.0/(1.0+np.exp(-x))\n",
    "    return output"
   ]
  },
  {
   "cell_type": "code",
   "execution_count": 11,
   "metadata": {
    "collapsed": true
   },
   "outputs": [],
   "source": [
    "def initialize_zeros(dimension): #dimension = len(flattened_examples)\n",
    "    zeroed_weights = np.zeros((dimension, 1)) \n",
    "    zeroed_baisies = 0. #baisies always start at 0 b/c they are developed as the model trains\n",
    "    assert(isinstance(zeroed_baisies, float) or isinstance(zeroed_baisies, int))\n",
    "    \n",
    "    return zeroed_weights, zeroed_baisies"
   ]
  },
  {
   "cell_type": "code",
   "execution_count": 12,
   "metadata": {
    "collapsed": true
   },
   "outputs": [],
   "source": [
    "def crossEntropyLoss(a,Y):\n",
    "    m = Y.shape[1] #len(Y) doesn't work, need 2nd dimesnion\n",
    "#     print(a.shape)\n",
    "    #print(\"BEFORE:\")\n",
    "    #print(a)\n",
    "    a[0][a[0]==1] = .999\n",
    "    a[0][a[0]==0] = .001\n",
    "#     a = [0.0001 for prediction in a[0] if prediction == 0]\n",
    "#     a = [0.9999 for prediction in a if prediction == 1]\n",
    "    #print(\"AFTER:\")\n",
    "    #print(a)\n",
    "    #a = np.reshape(a,(1,a.shape[1]))\n",
    "    #print(a.shape,\"changed\")\n",
    "    #a = 0.0001 if a == 0 else a\n",
    "    #a = 0.9999 if a == 1 else a\n",
    "    loss = -(1 / m) * np.sum(Y * np.log(a) + (1 - Y) * np.log(1 - a))\n",
    "    return loss"
   ]
  },
  {
   "cell_type": "markdown",
   "metadata": {
    "collapsed": true
   },
   "source": [
    "(4) Foward Pass"
   ]
  },
  {
   "cell_type": "code",
   "execution_count": 13,
   "metadata": {
    "collapsed": true
   },
   "outputs": [],
   "source": [
    "def propagate(X,Y,w,b):\n",
    "    # b = scalar\n",
    "    # w = (____, 1)\n",
    "    # X = (____, examples)\n",
    "    # Y = (1, examples)\n",
    "#     print(\"propagate shapes\")\n",
    "#     print(\"X\",np.shape(X))\n",
    "#     print(\"Y\",np.shape(Y))\n",
    "#     print(\"w\",np.shape(w))\n",
    "#     print(\"b\",np.shape(b))\n",
    "    \n",
    "    w_transposed = w.T\n",
    "    num_of_examples = np.shape(X)[1]\n",
    "    \n",
    "    dot_product = np.dot(w_transposed,X) #dot product of X and w be careful to use correct order\n",
    "    z = dot_product + b\n",
    "    a = sigmoid(z) #in begining should be 0\n",
    "    loss = crossEntropyLoss(a,Y)\n",
    "    dw = (1/num_of_examples) * np.dot(X,(a-Y).T) #?\n",
    "    db = (1/num_of_examples) * np.sum(a-Y) #np.sum collapes input\n",
    "    loss = np.squeeze(loss)\n",
    "    grads = {\"dw\":dw,\"db\":db}\n",
    "    return grads,loss    \n"
   ]
  },
  {
   "cell_type": "code",
   "execution_count": 14,
   "metadata": {},
   "outputs": [
    {
     "name": "stdout",
     "output_type": "stream",
     "text": [
      "dw = [[ 0.99845601]\n",
      " [ 2.39507239]]\n",
      "db = 0.00145557813678\n",
      "cost = 5.80154531939\n"
     ]
    }
   ],
   "source": [
    "w, b, X, Y = np.array([[1.],[2.]]), 2., np.array([[1.,2.,-1.],[3.,4.,-3.2]]), np.array([[1,0,1]])\n",
    "grads, cost = propagate(X, Y,w,b)\n",
    "print (\"dw = \" + str(grads[\"dw\"]))\n",
    "print (\"db = \" + str(grads[\"db\"]))\n",
    "print (\"cost = \" + str(cost))"
   ]
  },
  {
   "cell_type": "markdown",
   "metadata": {},
   "source": [
    "(5) Optimize"
   ]
  },
  {
   "cell_type": "code",
   "execution_count": 56,
   "metadata": {
    "collapsed": true
   },
   "outputs": [],
   "source": [
    "def optimizer(w, b, X, Y, learning_rate, epoch, print_results=True):\n",
    "    # b = scalar\n",
    "    # w = (____, 1)\n",
    "    # X = (____, examples)\n",
    "    # Y = (1, examples)\n",
    "#     print(\"optimizer shapes\")\n",
    "#     print(\"X\",np.shape(X))\n",
    "#     print(\"Y\",np.shape(Y))\n",
    "#     print(\"w\",np.shape(w))\n",
    "#     print(\"b\",np.shape(b))\n",
    "    sample_costs = []\n",
    "    costs = []\n",
    "    for i in range(epoch):\n",
    "        grads, cost = propagate(X,Y,w,b)\n",
    "        dw = grads[\"dw\"]\n",
    "        db = grads[\"db\"]\n",
    "        w = w - (learning_rate * dw)\n",
    "        b = b - (learning_rate * db)\n",
    "        costs += [cost]\n",
    "        if print_results:\n",
    "            optimizerPrinter(costs,epoch)\n",
    "        if (i % 10 == 0):\n",
    "            sample_costs += [cost]\n",
    "#             print(\"cost\",cost,(i+1)*100/epoch,\"%\")\n",
    "            \n",
    "    if print_results == True:\n",
    "        print(\"costs\" , costs )\n",
    "    grads = {\"dw\":dw,\"db\":db}\n",
    "    params = {\"w\":w,\"b\":b}\n",
    "    return grads,params,costs"
   ]
  },
  {
   "cell_type": "code",
   "execution_count": 164,
   "metadata": {},
   "outputs": [],
   "source": [
    "def optimizerPrinter(costs,epoch):\n",
    "    starting_costs = costs[:int(epoch * .05)] #gets the first 5 percent of costs, used as a baseline\n",
    "    recent_costs = costs[-10:] #get the most recent 10 costs\n",
    "    avg_recent_costs = sum(recent_costs)/len(recent_costs)\n",
    "    avg_starting_costs = sum(starting_costs)/len(starting_costs)\n",
    "    percent = ((len(costs))/epoch) * 100\n",
    "#     print(\"cost len:\",costs,\"percent:\", percent,\"remainder:\",percent % (epoch/10))\n",
    "    if (len(costs) % int(epoch/(10)) == 0.0) and (len(costs) != 1):\n",
    "        percent = math.ceil(percent * .1) * 10\n",
    "    cur_cost = costs[-1]\n",
    "    if cur_cost > 999: #only display three place values\n",
    "        cur_cost = 999\n",
    "    if avg_starting_costs > 999:\n",
    "        avg_starting_costs = 999\n",
    "    if avg_recent_costs > 999:\n",
    "        avg_recent_costs = 999\n",
    "    sys.stdout.write('\\r')\n",
    "    sys.stdout.write(\n",
    "        str(int(percent)).zfill(2) + \"% \" +\n",
    "        \"Cur Cost: \" + str(int(cur_cost)).zfill(3) +\n",
    "        \" Recent Costs: \" + str(int(avg_recent_costs)).zfill(3) + \n",
    "        \" Starting Costs: \" + str(int(avg_starting_costs)).zfill(3))\n",
    "    sys.stdout.flush()\n",
    "    \n",
    "    if (len(costs) % int(epoch/(10)) == 0.0) and (len(costs) != 1):\n",
    "        print(\"\")\n",
    "    "
   ]
  },
  {
   "cell_type": "code",
   "execution_count": 152,
   "metadata": {},
   "outputs": [
    {
     "name": "stdout",
     "output_type": "stream",
     "text": [
      "100% Cur Cost: 0 Recent Costs: 0 Starting Costs: 5costs [5.8015453193945534, 5.7409505028093335, 5.6803754268955746, 5.6198216671776269, 5.559290922630777, 5.4987850248644605, 5.4383059480708145, 5.3778558196064505, 5.3174369311891798, 5.2570517509302723, 5.1967029360407295, 5.1363933463542288, 5.0761260586313774, 5.0159043817008619, 4.9557318724279522, 4.8956123525382722, 4.8355499262779418, 4.7755489989189925, 4.7156142960808092, 4.6557508838423285, 4.5959641895888668, 4.5362600235376354, 4.4766446008520608, 4.4171245642268069, 4.3577070068332784, 4.2983994954233751, 4.239210093432046, 4.1801473838167329, 4.1212204913751425, 4.0624391042156711, 4.0038134940334729, 3.9453545347773975, 3.8870737192539702, 3.8289831731732904, 3.7710956660899897, 3.7134246186439932, 3.6559841054874314, 3.5987888532326089, 3.5418542327531091, 3.485196245157411, 3.4288315007655084, 3.3727771904490416, 3.3170510487520035, 3.2616713082802868, 3.2066566449616545, 3.1520261139053503, 3.0977990757617393, 3.0439951136709475, 2.9906339411123737, 2.9377353012070078, 2.8853188582848093, 2.8334040827949956, 2.7820101309040628, 2.7311557203791432, 2.680859004584204, 2.6311374466102269, 2.5820076957049856, 2.5334854682534358, 2.4855854355790754, 2.4383211207810884, 2.3917048066911439, 2.3457474568306047, 2.3004586509748828, 2.2558465366021174, 2.2119177971257997, 2.1686776374047385, 2.1261297866046034, 2.0842765180699838, 2.0431186854739818, 2.0026557741558935, 1.9628859662520688, 1.9238062179776763, 1.8854123472355346, 1.8476991296126815, 1.8106604007761158, 1.7742891632904003, 1.7385776959460097, 1.7035176637984835, 1.6691002272662274, 1.6353161488083263, 1.6021558958939397, 1.5696097391722994, 1.5376678449497094, 1.506320361270197, 1.4755574970747949, 1.4453695940773121, 1.4157471911388244, 1.386681081048879, 1.3581623597272192, 1.3301824679474352, 1.3027332257538531, 1.2758068597973526, 1.2493960238565769, 1.2234938128402413, 1.1980937705863792, 1.1731898917872727, 1.1487766183766432, 1.1248488307203233, 1.1014018339542855, 1.0784313398164707, 1.055933444321741, 1.0339046016338456, 1.0123415944945566, 0.9912415015786944, 0.97060166215428723, 0.95041963843962063, 0.93069317606263291, 0.91142016304259654, 0.89259858772820855, 0.87422649613925973, 0.85630194916984426, 0.83882298011851086, 0.82178755301379613, 0.80519352220116702, 0.78903859364871809, 0.77332028841325884, 0.7580359086852666, 0.74318250680032483, 0.72875685756623909, 0.71475543420936827, 0.70117438819157241, 0.68800953309148327, 0.67525633268187124, 0.66290989327003835, 0.6509649603021519, 0.63941591916676599, 0.62825680006928619, 0.61748128678932002, 0.60708272907827887, 0.59705415840651965, 0.58738830672877174, 0.57807762790437645, 0.56911432138541762, 0.56049035777130174, 0.55219750582263316, 0.54422736052988818, 0.53657137184281323, 0.52922087368378734, 0.52216711289163598, 0.51540127777049127, 0.50891452595012576, 0.50269801129864922, 0.49674290966445517]\n",
      "w = [[-0.01489992]\n",
      " [-0.28387724]]\n",
      "b = 1.85543546084\n",
      "dw = [[ 0.37990268]\n",
      " [ 0.69484216]]\n",
      "db = 0.115659532824\n"
     ]
    }
   ],
   "source": [
    "w, b, X, Y = np.array([[1.],[2.]]), 2., np.array([[1.,2.,-1.],[3.,4.,-3.2]]), np.array([[1,0,1]])\n",
    "grads,params,cost = optimizer(w,b,X, Y, .009, 143, print_results=True)\n",
    "print (\"w = \" + str(params[\"w\"]))\n",
    "print (\"b = \" + str(params[\"b\"]))\n",
    "print (\"dw = \" + str(grads[\"dw\"]))\n",
    "print (\"db = \" + str(grads[\"db\"]))"
   ]
  },
  {
   "cell_type": "markdown",
   "metadata": {},
   "source": [
    "(6) Validate"
   ]
  },
  {
   "cell_type": "code",
   "execution_count": 18,
   "metadata": {
    "collapsed": true
   },
   "outputs": [],
   "source": [
    "def predictor(X,w,b):\n",
    "    # b = scalar\n",
    "    # w = (____, 1)\n",
    "    # X = (____, examples)\n",
    "#     print(\"predictor shapes\")\n",
    "#     print(\"X\",np.shape(X))\n",
    "#     print(\"w\",np.shape(w))\n",
    "#     print(\"b\",np.shape(b))\n",
    "    w_transposed = w.T\n",
    "    prediction = (np.dot(w_transposed,X)) + b\n",
    "    prediction = sigmoid(prediction)\n",
    "    prediction *= 2.0 # so prediction is either 1 or -1\n",
    "    prediction = np.floor(prediction)\n",
    "    return prediction"
   ]
  },
  {
   "cell_type": "code",
   "execution_count": 19,
   "metadata": {},
   "outputs": [
    {
     "name": "stdout",
     "output_type": "stream",
     "text": [
      "[[ 1.  1.  0.]]\n"
     ]
    }
   ],
   "source": [
    "w = np.array([[0.1124], [0.231]])\n",
    "b = -.3\n",
    "X = np.array([[1,-1.1,-3.2],[1.2,2,.1]])\n",
    "print(predictor(X,w,b))"
   ]
  },
  {
   "cell_type": "markdown",
   "metadata": {},
   "source": [
    "(7) Driver"
   ]
  },
  {
   "cell_type": "code",
   "execution_count": 20,
   "metadata": {
    "collapsed": true
   },
   "outputs": [],
   "source": [
    "def logisticRegression(train_X,train_Y,test_X,test_Y,learning_rate,epoch):\n",
    "    # train_x = (image_width * image_width * 3, training_examples)\n",
    "    # train_y = (1, train_examples)\n",
    "    # test_x = (____, test_examples)\n",
    "    # test_y = (1, test_examples)\n",
    "    \n",
    "    assert(train_X.shape[1] == train_Y.shape[1]), \"train exampes dimensions invalid\"\n",
    "#     print(\"logisticShapes\")\n",
    "#     print(\"train x\",train_X.shape)\n",
    "#     print(\"train y\",train_Y.shape)\n",
    "#     print(\"test X\",test_X.shape)\n",
    "#     print(\"test Y\",test_Y.shape)\n",
    "    #Inialize w/b\n",
    "    w,b = initialize_zeros(side_length*side_length*3)\n",
    "    \n",
    "    #Train\n",
    "    grads, params, costs = optimizer(w, b, train_X, train_Y, learning_rate, epoch)\n",
    "    w, b = params[\"w\"], params[\"b\"]\n",
    "    print(\"Training finsihed\")\n",
    "\n",
    "    #Eval\n",
    "    prediction_train = predictor(train_X,w,b)\n",
    "    accuracy_train = np.mean(np.abs(prediction_train - train_Y))\n",
    "    accuracy_output = \"train accuracy {} %\" .format(100 - accuracy_train * 100)\n",
    "    print(accuracy_output)\n",
    "    \n",
    "    #Test\n",
    "    prediction_test = predictor(test_X,w,b)\n",
    "    accuracy_test = np.mean(np.abs(prediction_test - test_Y))\n",
    "    accuracy_output = \"Actural accuarcy {} %\" .format(100 - accuracy_test * 100)\n",
    "    print(accuracy_output)\n",
    "    \n",
    "    d = {\n",
    "        \"costs\": costs,\n",
    "        \"Y_prediction_test\" : prediction_test,\n",
    "        \"X_prediction_train\" : prediction_train,\n",
    "        \"w\" : w,\n",
    "        \"b\" : b,\n",
    "        \"learning rate\" : learning_rate,\n",
    "        \"epoch\" : epoch\n",
    "    }\n",
    "    \n",
    "    return d\n",
    "        "
   ]
  },
  {
   "cell_type": "code",
   "execution_count": null,
   "metadata": {
    "scrolled": true
   },
   "outputs": [
    {
     "name": "stdout",
     "output_type": "stream",
     "text": [
      "08% Cur Cost: 003 Recent Costs: 056 Starting Costs: 021"
     ]
    },
    {
     "name": "stderr",
     "output_type": "stream",
     "text": [
      "/Users/DanielLongo/anaconda3/lib/python3.6/site-packages/ipykernel_launcher.py:2: RuntimeWarning: overflow encountered in exp\n",
      "  \n"
     ]
    },
    {
     "name": "stdout",
     "output_type": "stream",
     "text": [
      "10% Cur Cost: 004 Recent Costs: 072 Starting Costs: 021\n",
      "20% Cur Cost: 052 Recent Costs: 088 Starting Costs: 021\n",
      "30% Cur Cost: 123 Recent Costs: 090 Starting Costs: 021\n",
      "40% Cur Cost: 003 Recent Costs: 081 Starting Costs: 021\n",
      "43% Cur Cost: 006 Recent Costs: 090 Starting Costs: 021"
     ]
    }
   ],
   "source": [
    "train_X = standardized_train_examples\n",
    "train_Y = labels_train\n",
    "test_X = standardized_test_examples\n",
    "test_Y = labels_test\n",
    "\n",
    "# print(test_X.shape)\n",
    "# print(test_X[0])\n",
    "# print(test_X[0].shape)\n",
    "\n",
    "# print(\"start\")\n",
    "# print(train_X.shape,\"train_X\")\n",
    "# print(train_Y.shape,\"train_Y\")\n",
    "# print(test_X.shape,\"test_X\")\n",
    "# print(test_Y.shape,\"test_Y\")\n",
    "\n",
    "logisticRegression(train_X,train_Y,test_X,test_Y,learning_rate,epoch)"
   ]
  },
  {
   "cell_type": "code",
   "execution_count": null,
   "metadata": {
    "collapsed": true
   },
   "outputs": [],
   "source": []
  },
  {
   "cell_type": "code",
   "execution_count": null,
   "metadata": {
    "collapsed": true
   },
   "outputs": [],
   "source": []
  },
  {
   "cell_type": "code",
   "execution_count": null,
   "metadata": {
    "collapsed": true
   },
   "outputs": [],
   "source": []
  },
  {
   "cell_type": "code",
   "execution_count": null,
   "metadata": {
    "collapsed": true
   },
   "outputs": [],
   "source": []
  },
  {
   "cell_type": "code",
   "execution_count": null,
   "metadata": {
    "collapsed": true
   },
   "outputs": [],
   "source": []
  },
  {
   "cell_type": "code",
   "execution_count": null,
   "metadata": {
    "collapsed": true
   },
   "outputs": [],
   "source": []
  }
 ],
 "metadata": {
  "kernelspec": {
   "display_name": "Python 3",
   "language": "python",
   "name": "python3"
  },
  "language_info": {
   "codemirror_mode": {
    "name": "ipython",
    "version": 3
   },
   "file_extension": ".py",
   "mimetype": "text/x-python",
   "name": "python",
   "nbconvert_exporter": "python",
   "pygments_lexer": "ipython3",
   "version": "3.6.3"
  }
 },
 "nbformat": 4,
 "nbformat_minor": 2
}

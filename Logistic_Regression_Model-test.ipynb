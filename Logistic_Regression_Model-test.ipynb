{
 "cells": [
  {
   "cell_type": "code",
   "execution_count": 2,
   "metadata": {
    "collapsed": true
   },
   "outputs": [],
   "source": [
    "import numpy as np\n",
    "import scipy \n",
    "import os\n",
    "import matplotlib.pyplot as plot\n",
    "import matplotlib.pyplot as plt\n",
    "from scipy import ndimage\n",
    "import sys\n",
    "import math\n",
    "from PIL import Image\n",
    "from skimage import io"
   ]
  },
  {
   "cell_type": "code",
   "execution_count": 6,
   "metadata": {},
   "outputs": [],
   "source": [
    "import nbimporter\n",
    "from Logistic_Regression_Model import * #import from notebook"
   ]
  },
  {
   "cell_type": "code",
   "execution_count": 9,
   "metadata": {},
   "outputs": [
    {
     "name": "stdout",
     "output_type": "stream",
     "text": [
      "[[ 1.  1.  0.]]\n"
     ]
    }
   ],
   "source": [
    "w = np.array([[0.1124], [0.231]])\n",
    "b = -.3\n",
    "X = np.array([[1,-1.1,-3.2],[1.2,2,.1]])\n",
    "print(predictor(X,w,b))"
   ]
  },
  {
   "cell_type": "code",
   "execution_count": 7,
   "metadata": {},
   "outputs": [
    {
     "name": "stdout",
     "output_type": "stream",
     "text": [
      "dw = [[ 0.99845601]\n",
      " [ 2.39507239]]\n",
      "db = 0.00145557813678\n",
      "cost = 5.80154531939\n"
     ]
    }
   ],
   "source": [
    "w, b, X, Y = np.array([[1.],[2.]]), 2., np.array([[1.,2.,-1.],[3.,4.,-3.2]]), np.array([[1,0,1]])\n",
    "grads, cost = propagate(X, Y,w,b)\n",
    "print (\"dw = \" + str(grads[\"dw\"]))\n",
    "print (\"db = \" + str(grads[\"db\"]))\n",
    "print (\"cost = \" + str(cost))"
   ]
  },
  {
   "cell_type": "code",
   "execution_count": 8,
   "metadata": {},
   "outputs": [
    {
     "name": "stdout",
     "output_type": "stream",
     "text": [
      "10% Cur Cost: 5.13639334635 Recent Costs: 5.35983472829 Starting Costs: 5.52413896408\n",
      "20% Cur Cost: 4.35770700683 Recent Costs: 4.59621286797 Starting Costs: 5.52413896408\n",
      "30% Cur Cost: 3.59878885323 Recent Costs: 3.84707707629 Starting Costs: 5.52413896408\n",
      "40% Cur Cost: 2.88531885828 Recent Costs: 3.12656645964 Starting Costs: 5.52413896408\n",
      "50% Cur Cost: 2.30045865097 Recent Costs: 2.47810118927 Starting Costs: 5.52413896408\n",
      "60% Cur Cost: 1.77428916329 Recent Costs: 1.92976901691 Starting Costs: 5.52413896408\n",
      "70% Cur Cost: 1.35816235973 Recent Costs: 1.48994274602 Starting Costs: 5.52413896408\n",
      "90% Cur Cost: 0.805193522201 Recent Costs: 0.873776601509 Starting Costs: 5.52413896408\n",
      "100% Cur Cost: 0.628256800069 Recent Costs: 0.679067450674 Starting Costs: 5.52413896408\n",
      "110% Cur Cost: 0.51540127777 Recent Costs: 0.549485611633 Starting Costs: 5.524138964088\n",
      "110% Cur Cost: 0.496742909664 Recent Costs: 0.52170554754 Starting Costs: 5.524138964088w = [[-0.01489992]\n",
      " [-0.28387724]]\n",
      "b = 1.85543546084\n",
      "dw = [[ 0.37990268]\n",
      " [ 0.69484216]]\n",
      "db = 0.115659532824\n"
     ]
    }
   ],
   "source": [
    "w, b, X, Y = np.array([[1.],[2.]]), 2., np.array([[1.,2.,-1.],[3.,4.,-3.2]]), np.array([[1,0,1]])\n",
    "grads,params,cost = optimizer(w,b,X, Y, .009, 143, print_results=True)\n",
    "print (\"w = \" + str(params[\"w\"]))\n",
    "print (\"b = \" + str(params[\"b\"]))\n",
    "print (\"dw = \" + str(grads[\"dw\"]))\n",
    "print (\"db = \" + str(grads[\"db\"]))"
   ]
  },
  {
   "cell_type": "code",
   "execution_count": null,
   "metadata": {
    "collapsed": true
   },
   "outputs": [],
   "source": []
  }
 ],
 "metadata": {
  "kernelspec": {
   "display_name": "Python 3",
   "language": "python",
   "name": "python3"
  },
  "language_info": {
   "codemirror_mode": {
    "name": "ipython",
    "version": 3
   },
   "file_extension": ".py",
   "mimetype": "text/x-python",
   "name": "python",
   "nbconvert_exporter": "python",
   "pygments_lexer": "ipython3",
   "version": "3.6.3"
  }
 },
 "nbformat": 4,
 "nbformat_minor": 2
}

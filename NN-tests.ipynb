{
 "cells": [
  {
   "cell_type": "code",
   "execution_count": 13,
   "metadata": {
    "collapsed": true
   },
   "outputs": [],
   "source": [
    "import numpy as np\n",
    "import scipy \n",
    "import os\n",
    "import matplotlib.pyplot as plot\n",
    "import math\n",
    "from scipy import ndimage"
   ]
  },
  {
   "cell_type": "code",
   "execution_count": 14,
   "metadata": {},
   "outputs": [],
   "source": [
    "import nbimporter\n",
    "from ShallowNN import * #import from notebook"
   ]
  },
  {
   "cell_type": "markdown",
   "metadata": {},
   "source": [
    "## Test Cases for NN"
   ]
  },
  {
   "cell_type": "markdown",
   "metadata": {},
   "source": [
    "### Initialize_params_shallow"
   ]
  },
  {
   "cell_type": "code",
   "execution_count": 15,
   "metadata": {},
   "outputs": [
    {
     "name": "stdout",
     "output_type": "stream",
     "text": [
      "w1: [[ 0.01624345 -0.00611756 -0.00528172]\n",
      " [-0.01072969  0.00865408 -0.02301539]\n",
      " [ 0.01744812 -0.00761207  0.00319039]\n",
      " [-0.0024937   0.01462108 -0.02060141]]\n",
      "w2: [[-0.00322417 -0.00384054  0.01133769 -0.01099891]\n",
      " [-0.00172428 -0.00877858  0.00042214  0.00582815]]\n",
      "b1: [[ 0.]\n",
      " [ 0.]\n",
      " [ 0.]\n",
      " [ 0.]]\n",
      "b2: [[ 0.]\n",
      " [ 0.]]\n"
     ]
    }
   ],
   "source": [
    "np.random.seed(1)\n",
    "params_shallow = initialize_params_shallow(3, 4, 2)\n",
    "print(\"w1:\", params_shallow[\"w1\"])\n",
    "print(\"w2:\", params_shallow[\"w2\"])\n",
    "print(\"b1:\", params_shallow[\"b1\"])\n",
    "print(\"b2:\", params_shallow[\"b2\"])"
   ]
  },
  {
   "cell_type": "markdown",
   "metadata": {},
   "source": [
    "##### (3,4,2)\n",
    "<table style:\"width-80%\">\n",
    "    <tr>\n",
    "        <td>\n",
    "         <b> w1:</b> [[ 0.01624345 -0.00611756 -0.00528172]\n",
    "         [-0.01072969  0.00865408 -0.02301539]\n",
    "         [ 0.01744812 -0.00761207  0.00319039]\n",
    "         [-0.0024937   0.01462108 -0.02060141]]\n",
    "        </td>\n",
    "        <td>\n",
    "        w2: [[-0.00322417 -0.00384054  0.01133769 -0.01099891]\n",
    " [-0.00172428 -0.00877858  0.00042214  0.00582815]]\n",
    "        </td>\n",
    "    </tr>\n",
    "    <tr>\n",
    "    <td>\n",
    "        b1: [[ 0.]\n",
    " [ 0.]\n",
    " [ 0.]\n",
    " [ 0.]]\n",
    "        </td>\n",
    "        <td>\n",
    "b2: [[ 0.]\n",
    " [ 0.]]\n",
    " </td>\n",
    "     </tr>\n",
    "</table>"
   ]
  },
  {
   "cell_type": "markdown",
   "metadata": {},
   "source": [
    "### Initialize_params_deep"
   ]
  },
  {
   "cell_type": "code",
   "execution_count": 26,
   "metadata": {},
   "outputs": [
    {
     "name": "stdout",
     "output_type": "stream",
     "text": [
      "w1 (4, 5)\n",
      "[[ 0.01788628  0.0043651   0.00096497 -0.01863493 -0.00277388]\n",
      " [-0.00354759 -0.00082741 -0.00627001 -0.00043818 -0.00477218]\n",
      " [-0.01313865  0.00884622  0.00881318  0.01709573  0.00050034]\n",
      " [-0.00404677 -0.0054536  -0.01546477  0.00982367 -0.01101068]]\n",
      "b1 (4, 1)\n",
      "[[ 0.]\n",
      " [ 0.]\n",
      " [ 0.]\n",
      " [ 0.]]\n",
      "w2 (3, 4)\n",
      "[[-0.01185047 -0.0020565   0.01486148  0.00236716]\n",
      " [-0.01023785 -0.00712993  0.00625245 -0.00160513]\n",
      " [-0.00768836 -0.00230031  0.00745056  0.01976111]]\n",
      "b2 (3, 1)\n",
      "[[ 0.]\n",
      " [ 0.]\n",
      " [ 0.]]\n"
     ]
    }
   ],
   "source": [
    "np.random.seed(3)\n",
    "params_deep = initialize_params_deep(5,[4],3)\n",
    "for param in params_deep:\n",
    "    print(param, params_deep[param].shape)\n",
    "    print(params_deep[param])\n"
   ]
  },
  {
   "cell_type": "markdown",
   "metadata": {},
   "source": [
    "##### seed(3) (5,[3],3)\n",
    "<table style:\"width-80%\">\n",
    "    <tr>\n",
    "        <td>\n",
    "w1 (4, 5)\n",
    "[[ 0.01788628  0.0043651   0.00096497 -0.01863493 -0.00277388]\n",
    " [-0.00354759 -0.00082741 -0.00627001 -0.00043818 -0.00477218]\n",
    " [-0.01313865  0.00884622  0.00881318  0.01709573  0.00050034]\n",
    " [-0.00404677 -0.0054536  -0.01546477  0.00982367 -0.01101068]]\n",
    " </td>\n",
    " <td>\n",
    "b1 (4, 1)\n",
    "[[ 0.]\n",
    " [ 0.]\n",
    " [ 0.]\n",
    " [ 0.]]\n",
    "</td>\n",
    "<tr>\n",
    "<td>\n",
    "w2 (3, 4)\n",
    "[[-0.01185047 -0.0020565   0.01486148  0.00236716]\n",
    " [-0.01023785 -0.00712993  0.00625245 -0.00160513]\n",
    " [-0.00768836 -0.00230031  0.00745056  0.01976111]]\n",
    "</td>\n",
    "<td>\n",
    "b2 (3, 1)\n",
    "[[ 0.]\n",
    " [ 0.]\n",
    " [ 0.]]\n",
    " </td>\n",
    " </tr>\n",
    " </table>"
   ]
  },
  {
   "cell_type": "markdown",
   "metadata": {},
   "source": [
    "### Linear_foward_prop"
   ]
  },
  {
   "cell_type": "code",
   "execution_count": 17,
   "metadata": {},
   "outputs": [
    {
     "name": "stdout",
     "output_type": "stream",
     "text": [
      "X (3, 2) w (1, 3) b (1,) z (1, 2)\n",
      "[[ 3.26295337 -1.23429987]]\n"
     ]
    }
   ],
   "source": [
    "np.random.seed(1)\n",
    "X = np.random.randn(3,2)\n",
    "w = np.random.randn(1,3)\n",
    "b = np.random.randn(1) #(1,1) broadcasting\n",
    "z,_ = linear_forward_prop(X,w,b)\n",
    "print(\"X\",X.shape,\"w\",w.shape,\"b\",b.shape,\"z\",z.shape)\n",
    "print(z)"
   ]
  },
  {
   "cell_type": "markdown",
   "metadata": {},
   "source": [
    "##### seed(1) x=(3,2) w=(1,3) b=(1)\n",
    "<table style:\"width-80%\">\n",
    "    <tr>\n",
    "        <td>\n",
    "X (3, 2) w (1, 3) b (1,) z (2, 1)\n",
    "</td>\n",
    "</tr>\n",
    "    <tr>\n",
    "        <td>\n",
    "[[ 3.26295337]\n",
    " [-1.23429987]]\n",
    " </td>\n",
    "</tr>\n",
    "</table>"
   ]
  },
  {
   "cell_type": "markdown",
   "metadata": {},
   "source": [
    "### SingleFowardProp"
   ]
  },
  {
   "cell_type": "code",
   "execution_count": 18,
   "metadata": {},
   "outputs": [
    {
     "name": "stdout",
     "output_type": "stream",
     "text": [
      "Relu A [[ 3.43896131  0.        ]]\n",
      "Sigmoud A [[ 0.96890023  0.11013289]]\n"
     ]
    }
   ],
   "source": [
    "np.random.seed(2)\n",
    "X = np.random.randn(3,2)\n",
    "w = np.random.randn(1,3)\n",
    "b = np.random.randn(1,1) #(1,1) broadcasting\n",
    "a,cached_values = singleFowardPropagation(X,w,b,\"relu\")\n",
    "print(\"Relu A\",a)\n",
    "\n",
    "a,cached_values = singleFowardPropagation(X,w,b,\"sigmoid\")\n",
    "print(\"Sigmoud A\",a)\n",
    "# print(X,w,b)"
   ]
  },
  {
   "cell_type": "markdown",
   "metadata": {},
   "source": [
    "Relu A [[ 3.43896131] [ 0. ]] Sigmoud A [[ 0.96890023] [ 0.11013289]]"
   ]
  },
  {
   "cell_type": "code",
   "execution_count": 19,
   "metadata": {},
   "outputs": [
    {
     "name": "stdout",
     "output_type": "stream",
     "text": [
      "a: [[ 0.03921668  0.70498921  0.19734387  0.04728177]]\n"
     ]
    }
   ],
   "source": [
    "np.random.seed(6)\n",
    "X = np.random.randn(5,4)\n",
    "w1 = np.random.randn(4,5)\n",
    "b1 = np.random.randn(4,1)\n",
    "w2 = np.random.randn(3,4)\n",
    "b2 = np.random.randn(3,1)\n",
    "w3 = np.random.randn(1,3)\n",
    "b3 = np.random.randn(1,1)\n",
    "params = {\n",
    "    \"w1\":w1,\n",
    "    \"b1\":b1,\n",
    "    \"w2\":w2,\n",
    "    \"b2\":b2,\n",
    "    \"w3\":w3,\n",
    "    \"b3\":b3\n",
    "}\n",
    "a, cached_values = fowardPropagate(X, params)\n",
    "print(\"a:\",a)\n",
    "# print(\"cached_values\",cached_values)"
   ]
  },
  {
   "cell_type": "markdown",
   "metadata": {},
   "source": [
    "Before Transpose -- A: (5, 4) W: (4, 5) B: (4, 1) <br/>\n",
    "After Transpose -- A: (5, 4) W: (4, 5) B: (4, 1) <br/>\n",
    "z: (4, 4) <br/>\n",
    "Before Transpose -- A: (4, 4) W: (3, 4) B: (3, 1) <br/>\n",
    "After Transpose -- A: (4, 4) W: (3, 4) B: (3, 1) <br/>\n",
    "z: (3, 4)<br/>\n",
    "Before Transpose -- A: (3, 4) W: (1, 3) B: (1, 1) <br/>\n",
    "After Transpose -- A: (3, 4) W: (1, 3) B: (1, 1) <br/>\n",
    "z: (1, 4) <br/>\n",
    "a: [[ 0.03921668  0.70498921  0.19734387  0.04728177]] <br/>"
   ]
  },
  {
   "cell_type": "markdown",
   "metadata": {},
   "source": [
    "### LinearBackprop "
   ]
  },
  {
   "cell_type": "code",
   "execution_count": 20,
   "metadata": {},
   "outputs": [
    {
     "data": {
      "text/plain": [
       "{'dA': array([[ 0.51822968, -0.19517421],\n",
       "        [-0.40506361,  0.15255393],\n",
       "        [ 2.37496825, -0.89445391]]),\n",
       " 'dB': array([[ 0.50629448]]),\n",
       " 'dW': array([[-0.10076895,  1.40685096,  1.64992505]])}"
      ]
     },
     "execution_count": 20,
     "metadata": {},
     "output_type": "execute_result"
    }
   ],
   "source": [
    "np.random.seed(1)\n",
    "dZ = np.random.randn(1,2)\n",
    "a = np.random.randn(3,2)\n",
    "w = np.random.randn(1,3)\n",
    "b = np.random.randn(1,1)\n",
    "cached_values = {\"w\": w, \"in_a\":a,\"b\":b}\n",
    "linearBackprop(cached_values, dZ)"
   ]
  },
  {
   "cell_type": "markdown",
   "metadata": {},
   "source": [
    "<tr>\n",
    "<td>\n",
    "{'dA': array([[ 0.51822968, -0.19517421], [-0.40506361, 0.15255393], [ 2.37496825, -0.89445391]]),\n",
    "</td>\n",
    "<td>\n",
    "'dB': array([[ 0.50629448]]), 'dW': array([[-0.10076895, 1.40685096, 1.64992505]])}\n",
    "</td>\n",
    "</tr>"
   ]
  },
  {
   "cell_type": "markdown",
   "metadata": {},
   "source": [
    "### Backwards_activation"
   ]
  },
  {
   "cell_type": "code",
   "execution_count": 21,
   "metadata": {},
   "outputs": [
    {
     "data": {
      "text/plain": [
       "{'dA': array([[ 0.11017994,  0.01105339],\n",
       "        [ 0.09466817,  0.00949723],\n",
       "        [-0.05743092, -0.00576154]]),\n",
       " 'dB': array([[-0.05729622]]),\n",
       " 'dW': array([[ 0.10266786,  0.09778551, -0.01968084]])}"
      ]
     },
     "execution_count": 21,
     "metadata": {},
     "output_type": "execute_result"
    }
   ],
   "source": [
    "np.random.seed(2)\n",
    "dA = np.random.randn(1,2)\n",
    "a = np.random.randn(3,2)\n",
    "w = np.random.randn(1,3)\n",
    "b = np.random.randn(1,1)\n",
    "z = np.random.randn(1,2)\n",
    "cached_values = {\"w\": w, \"in_a\":a,\"b\":b, \"z\":z}\n",
    "backwards_activation(dA, cached_values, activation_type=\"relu\")\n",
    "backwards_activation(dA, cached_values, activation_type=\"sigmoid\")"
   ]
  },
  {
   "cell_type": "markdown",
   "metadata": {},
   "source": [
    "<table style:\"width-80%\">\n",
    "<tr>\n",
    "<td>\n",
    "For Relu: {'dA': array([[ 0.44090989, 0. ], [ 0.37883606, 0. ], [-0.2298228 , 0. ]]), 'dB': array([[-0.20837892]]), 'dW': array([[ 0.44513824, 0.37371418, -0.10478989]])}\n",
    "</td>\n",
    "</tr>\n",
    "<tr>\n",
    "<td>\n",
    "For Sigmoid: {'dA': array([[ 0.11017994, 0.01105339], [ 0.09466817, 0.00949723], [-0.05743092, -0.00576154]]), 'dB': array([[-0.05729622]]), 'dW': array([[ 0.10266786, 0.09778551, -0.01968084]])}\n",
    "</td>\n",
    "</tr>\n",
    "</table>"
   ]
  },
  {
   "cell_type": "markdown",
   "metadata": {
    "collapsed": true
   },
   "source": [
    "### Backprop"
   ]
  },
  {
   "cell_type": "code",
   "execution_count": 22,
   "metadata": {},
   "outputs": [
    {
     "name": "stdout",
     "output_type": "stream",
     "text": [
      "dA0 (1, 2)\n",
      "dW1 (3, 4)\n",
      "dB1 (3, 1)\n",
      "dW2 (1, 3)\n",
      "dB2 (1, 1)\n",
      "dA1 (3, 2)\n",
      "{'dW2': array([[-0.39202432, -0.13325855, -0.04601089]]), 'dB2': array([[ 0.15187861]]), 'dA1': array([[-0.14175655,  0.48317296],\n",
      "       [ 0.01663708, -0.05670698],\n",
      "       [ 0.20472941, -0.69781407]]), 'dW1': array([[-0.45019464, -0.08570497, -0.15147489, -0.11528942],\n",
      "       [ 0.        ,  0.        ,  0.        ,  0.        ],\n",
      "       [ 0.65018572,  0.1237779 ,  0.21876495,  0.16650473]]), 'dB1': array([[ 0.24158648],\n",
      "       [ 0.        ],\n",
      "       [-0.34890704]]), 'dA0': array([[ 0.        ,  1.43247838]])}\n"
     ]
    }
   ],
   "source": [
    "np.random.seed(3)\n",
    "a = np.random.randn(1, 2)\n",
    "a1 = np.random.randn(4, 2)\n",
    "b1 = np.random.randn(3, 4)\n",
    "w1 = np.random.randn(3, 1)\n",
    "z1 = np.random.randn(3, 2)\n",
    "cache1 = [{\"in_a\" : a1,\"b\" : b1,\"w\" : w1, \"z\" : z1}]\n",
    "a2 = np.random.randn(3, 2)\n",
    "b2 = np.random.randn(1, 1)\n",
    "w2 = np.random.randn(1, 3)\n",
    "z2 = np.random.randn(1, 2)\n",
    "cache2 = [{\"in_a\" : a2,\"b\" : b2,\"w\" : w2, \"z\" : z2}]\n",
    "megaCache = cache1 +  cache2\n",
    "y = np.array([[1,0]])\n",
    "# print(\"y\",y)\n",
    "# print(megaCache[0][\"in_a\"],\"in_a1\")\n",
    "# print(megaCache[0][\"b\"],\"b1\")\n",
    "# print(megaCache[0][\"w\"],\"w1\")\n",
    "# print(megaCache[0][\"z\"],\"z1\")\n",
    "# print(megaCache[1][\"in_a\"],\"in_a2\")\n",
    "# print(megaCache[1][\"b\"],\"b2\")\n",
    "# print(megaCache[1][\"w\"],\"w2\")\n",
    "# print(megaCache[1][\"z\"],\"z2\")\n",
    "\n",
    "\n",
    "grads = backprop(a, megaCache,y)\n",
    "print(\"dA0\", grads[\"dA0\"].shape)\n",
    "print(\"dW1\", grads[\"dW1\"].shape)\n",
    "print(\"dB1\", grads[\"dB1\"].shape)\n",
    "print(\"dW2\", grads[\"dW2\"].shape)\n",
    "print(\"dB2\", grads[\"dB2\"].shape)\n",
    "print(\"dA1\", grads[\"dA1\"].shape)\n",
    "print(grads)"
   ]
  },
  {
   "cell_type": "markdown",
   "metadata": {},
   "source": [
    "dA0 (1, 2)\n",
    "dW1 (3, 4)\n",
    "dB1 (3, 1)\n",
    "dW2 (1, 3)\n",
    "dB2 (1, 1)\n",
    "dA1 (3, 2)\n",
    "{'dW2': array([[-0.39202432, -0.13325855, -0.04601089]]), 'dB2': array([[ 0.15187861]]), 'dA1': array([[-0.14175655,  0.48317296],\n",
    "       [ 0.01663708, -0.05670698],\n",
    "       [ 0.20472941, -0.69781407]]), 'dW1': array([[-0.45019464, -0.08570497, -0.15147489, -0.11528942],\n",
    "       [ 0.        ,  0.        ,  0.        ,  0.        ],\n",
    "       [ 0.65018572,  0.1237779 ,  0.21876495,  0.16650473]]), 'dB1': array([[ 0.24158648],\n",
    "       [ 0.        ],\n",
    "       [-0.34890704]]), 'dA0': array([[ 0.        ,  1.43247838]])}"
   ]
  },
  {
   "cell_type": "code",
   "execution_count": null,
   "metadata": {
    "collapsed": true
   },
   "outputs": [],
   "source": []
  }
 ],
 "metadata": {
  "kernelspec": {
   "display_name": "Python 3",
   "language": "python",
   "name": "python3"
  },
  "language_info": {
   "codemirror_mode": {
    "name": "ipython",
    "version": 3
   },
   "file_extension": ".py",
   "mimetype": "text/x-python",
   "name": "python",
   "nbconvert_exporter": "python",
   "pygments_lexer": "ipython3",
   "version": "3.6.3"
  }
 },
 "nbformat": 4,
 "nbformat_minor": 2
}
